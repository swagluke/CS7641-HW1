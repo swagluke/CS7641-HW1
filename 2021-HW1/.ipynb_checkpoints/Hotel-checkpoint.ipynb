{
 "cells": [
  {
   "cell_type": "code",
   "execution_count": 2,
   "metadata": {
    "colab": {
     "base_uri": "https://localhost:8080/"
    },
    "id": "GegELf2zQ-re",
    "outputId": "34f24340-e8f3-4ef6-d7a5-880c68b9a81b"
   },
   "outputs": [
    {
     "name": "stdout",
     "output_type": "stream",
     "text": [
      "Using matplotlib backend: MacOSX\n"
     ]
    }
   ],
   "source": [
    "import numpy as np\n",
    "import pandas as pd\n",
    "import seaborn as sns\n",
    "import plotly.express as px\n",
    "import matplotlib.pyplot as plt\n",
    "# from xgboost import XGBClassifier\n",
    "from sklearn.metrics import f1_score\n",
    "from sklearn.pipeline import Pipeline\n",
    "from tqdm import tqdm_notebook as tqdm\n",
    "from sklearn.impute import SimpleImputer\n",
    "from sklearn.naive_bayes import GaussianNB\n",
    "from sklearn.metrics import confusion_matrix\n",
    "from sklearn.metrics import matthews_corrcoef\n",
    "from sklearn.svm import LinearSVC, NuSVC, SVC\n",
    "from sklearn.compose import ColumnTransformer\n",
    "from sklearn.tree import DecisionTreeClassifier\n",
    "from sklearn.neural_network import MLPClassifier\n",
    "from sklearn.preprocessing import StandardScaler\n",
    "from sklearn.model_selection import GridSearchCV\n",
    "from sklearn.model_selection import ShuffleSplit\n",
    "from sklearn.metrics import classification_report\n",
    "from sklearn.neighbors import KNeighborsClassifier\n",
    "from sklearn.model_selection import learning_curve\n",
    "# from yellowbrick.model_selection import LearningCurve\n",
    "# from yellowbrick.classifier import ClassificationReport\n",
    "# from yellowbrick.regressor import PredictionError, ResidualsPlot\n",
    "from sklearn.metrics import accuracy_score, classification_report\n",
    "from sklearn.preprocessing import LabelEncoder, OneHotEncoder, OrdinalEncoder\n",
    "from sklearn.linear_model import LogisticRegression, SGDClassifier, LogisticRegressionCV\n",
    "from sklearn.model_selection import train_test_split, KFold, cross_validate, cross_val_score\n",
    "from sklearn.ensemble import AdaBoostClassifier, BaggingClassifier, ExtraTreesClassifier, RandomForestClassifier\n",
    "%matplotlib"
   ]
  },
  {
   "cell_type": "code",
   "execution_count": 3,
   "metadata": {
    "id": "dElgeXGFI2wy"
   },
   "outputs": [],
   "source": [
    "data = pd.read_csv('Data/hotels.csv')"
   ]
  },
  {
   "cell_type": "markdown",
   "metadata": {
    "id": "mbul_DbmY234"
   },
   "source": [
    "# EDA"
   ]
  },
  {
   "cell_type": "code",
   "execution_count": null,
   "metadata": {
    "colab": {
     "base_uri": "https://localhost:8080/",
     "height": 309
    },
    "id": "5SWu3YinarTo",
    "outputId": "1be909d3-e18a-447b-9072-51451a128e2a"
   },
   "outputs": [
    {
     "data": {
      "text/html": [
       "<div>\n",
       "<style scoped>\n",
       "    .dataframe tbody tr th:only-of-type {\n",
       "        vertical-align: middle;\n",
       "    }\n",
       "\n",
       "    .dataframe tbody tr th {\n",
       "        vertical-align: top;\n",
       "    }\n",
       "\n",
       "    .dataframe thead th {\n",
       "        text-align: right;\n",
       "    }\n",
       "</style>\n",
       "<table border=\"1\" class=\"dataframe\">\n",
       "  <thead>\n",
       "    <tr style=\"text-align: right;\">\n",
       "      <th></th>\n",
       "      <th>hotel</th>\n",
       "      <th>is_canceled</th>\n",
       "      <th>lead_time</th>\n",
       "      <th>arrival_date_year</th>\n",
       "      <th>arrival_date_month</th>\n",
       "      <th>arrival_date_week_number</th>\n",
       "      <th>arrival_date_day_of_month</th>\n",
       "      <th>stays_in_weekend_nights</th>\n",
       "      <th>stays_in_week_nights</th>\n",
       "      <th>adults</th>\n",
       "      <th>children</th>\n",
       "      <th>babies</th>\n",
       "      <th>meal</th>\n",
       "      <th>country</th>\n",
       "      <th>market_segment</th>\n",
       "      <th>distribution_channel</th>\n",
       "      <th>is_repeated_guest</th>\n",
       "      <th>previous_cancellations</th>\n",
       "      <th>previous_bookings_not_canceled</th>\n",
       "      <th>reserved_room_type</th>\n",
       "      <th>assigned_room_type</th>\n",
       "      <th>booking_changes</th>\n",
       "      <th>deposit_type</th>\n",
       "      <th>agent</th>\n",
       "      <th>company</th>\n",
       "      <th>days_in_waiting_list</th>\n",
       "      <th>customer_type</th>\n",
       "      <th>adr</th>\n",
       "      <th>required_car_parking_spaces</th>\n",
       "      <th>total_of_special_requests</th>\n",
       "      <th>reservation_status</th>\n",
       "      <th>reservation_status_date</th>\n",
       "    </tr>\n",
       "  </thead>\n",
       "  <tbody>\n",
       "    <tr>\n",
       "      <th>0</th>\n",
       "      <td>Resort Hotel</td>\n",
       "      <td>0</td>\n",
       "      <td>342</td>\n",
       "      <td>2015</td>\n",
       "      <td>July</td>\n",
       "      <td>27</td>\n",
       "      <td>1</td>\n",
       "      <td>0</td>\n",
       "      <td>0</td>\n",
       "      <td>2</td>\n",
       "      <td>0.0</td>\n",
       "      <td>0</td>\n",
       "      <td>BB</td>\n",
       "      <td>PRT</td>\n",
       "      <td>Direct</td>\n",
       "      <td>Direct</td>\n",
       "      <td>0</td>\n",
       "      <td>0</td>\n",
       "      <td>0</td>\n",
       "      <td>C</td>\n",
       "      <td>C</td>\n",
       "      <td>3</td>\n",
       "      <td>No Deposit</td>\n",
       "      <td>NaN</td>\n",
       "      <td>NaN</td>\n",
       "      <td>0</td>\n",
       "      <td>Transient</td>\n",
       "      <td>0.0</td>\n",
       "      <td>0</td>\n",
       "      <td>0</td>\n",
       "      <td>Check-Out</td>\n",
       "      <td>2015-07-01</td>\n",
       "    </tr>\n",
       "    <tr>\n",
       "      <th>1</th>\n",
       "      <td>Resort Hotel</td>\n",
       "      <td>0</td>\n",
       "      <td>737</td>\n",
       "      <td>2015</td>\n",
       "      <td>July</td>\n",
       "      <td>27</td>\n",
       "      <td>1</td>\n",
       "      <td>0</td>\n",
       "      <td>0</td>\n",
       "      <td>2</td>\n",
       "      <td>0.0</td>\n",
       "      <td>0</td>\n",
       "      <td>BB</td>\n",
       "      <td>PRT</td>\n",
       "      <td>Direct</td>\n",
       "      <td>Direct</td>\n",
       "      <td>0</td>\n",
       "      <td>0</td>\n",
       "      <td>0</td>\n",
       "      <td>C</td>\n",
       "      <td>C</td>\n",
       "      <td>4</td>\n",
       "      <td>No Deposit</td>\n",
       "      <td>NaN</td>\n",
       "      <td>NaN</td>\n",
       "      <td>0</td>\n",
       "      <td>Transient</td>\n",
       "      <td>0.0</td>\n",
       "      <td>0</td>\n",
       "      <td>0</td>\n",
       "      <td>Check-Out</td>\n",
       "      <td>2015-07-01</td>\n",
       "    </tr>\n",
       "    <tr>\n",
       "      <th>2</th>\n",
       "      <td>Resort Hotel</td>\n",
       "      <td>0</td>\n",
       "      <td>7</td>\n",
       "      <td>2015</td>\n",
       "      <td>July</td>\n",
       "      <td>27</td>\n",
       "      <td>1</td>\n",
       "      <td>0</td>\n",
       "      <td>1</td>\n",
       "      <td>1</td>\n",
       "      <td>0.0</td>\n",
       "      <td>0</td>\n",
       "      <td>BB</td>\n",
       "      <td>GBR</td>\n",
       "      <td>Direct</td>\n",
       "      <td>Direct</td>\n",
       "      <td>0</td>\n",
       "      <td>0</td>\n",
       "      <td>0</td>\n",
       "      <td>A</td>\n",
       "      <td>C</td>\n",
       "      <td>0</td>\n",
       "      <td>No Deposit</td>\n",
       "      <td>NaN</td>\n",
       "      <td>NaN</td>\n",
       "      <td>0</td>\n",
       "      <td>Transient</td>\n",
       "      <td>75.0</td>\n",
       "      <td>0</td>\n",
       "      <td>0</td>\n",
       "      <td>Check-Out</td>\n",
       "      <td>2015-07-02</td>\n",
       "    </tr>\n",
       "    <tr>\n",
       "      <th>3</th>\n",
       "      <td>Resort Hotel</td>\n",
       "      <td>0</td>\n",
       "      <td>13</td>\n",
       "      <td>2015</td>\n",
       "      <td>July</td>\n",
       "      <td>27</td>\n",
       "      <td>1</td>\n",
       "      <td>0</td>\n",
       "      <td>1</td>\n",
       "      <td>1</td>\n",
       "      <td>0.0</td>\n",
       "      <td>0</td>\n",
       "      <td>BB</td>\n",
       "      <td>GBR</td>\n",
       "      <td>Corporate</td>\n",
       "      <td>Corporate</td>\n",
       "      <td>0</td>\n",
       "      <td>0</td>\n",
       "      <td>0</td>\n",
       "      <td>A</td>\n",
       "      <td>A</td>\n",
       "      <td>0</td>\n",
       "      <td>No Deposit</td>\n",
       "      <td>304.0</td>\n",
       "      <td>NaN</td>\n",
       "      <td>0</td>\n",
       "      <td>Transient</td>\n",
       "      <td>75.0</td>\n",
       "      <td>0</td>\n",
       "      <td>0</td>\n",
       "      <td>Check-Out</td>\n",
       "      <td>2015-07-02</td>\n",
       "    </tr>\n",
       "    <tr>\n",
       "      <th>4</th>\n",
       "      <td>Resort Hotel</td>\n",
       "      <td>0</td>\n",
       "      <td>14</td>\n",
       "      <td>2015</td>\n",
       "      <td>July</td>\n",
       "      <td>27</td>\n",
       "      <td>1</td>\n",
       "      <td>0</td>\n",
       "      <td>2</td>\n",
       "      <td>2</td>\n",
       "      <td>0.0</td>\n",
       "      <td>0</td>\n",
       "      <td>BB</td>\n",
       "      <td>GBR</td>\n",
       "      <td>Online TA</td>\n",
       "      <td>TA/TO</td>\n",
       "      <td>0</td>\n",
       "      <td>0</td>\n",
       "      <td>0</td>\n",
       "      <td>A</td>\n",
       "      <td>A</td>\n",
       "      <td>0</td>\n",
       "      <td>No Deposit</td>\n",
       "      <td>240.0</td>\n",
       "      <td>NaN</td>\n",
       "      <td>0</td>\n",
       "      <td>Transient</td>\n",
       "      <td>98.0</td>\n",
       "      <td>0</td>\n",
       "      <td>1</td>\n",
       "      <td>Check-Out</td>\n",
       "      <td>2015-07-03</td>\n",
       "    </tr>\n",
       "  </tbody>\n",
       "</table>\n",
       "</div>"
      ],
      "text/plain": [
       "          hotel  is_canceled  ...  reservation_status  reservation_status_date\n",
       "0  Resort Hotel            0  ...           Check-Out               2015-07-01\n",
       "1  Resort Hotel            0  ...           Check-Out               2015-07-01\n",
       "2  Resort Hotel            0  ...           Check-Out               2015-07-02\n",
       "3  Resort Hotel            0  ...           Check-Out               2015-07-02\n",
       "4  Resort Hotel            0  ...           Check-Out               2015-07-03\n",
       "\n",
       "[5 rows x 32 columns]"
      ]
     },
     "execution_count": 3,
     "metadata": {
      "tags": []
     },
     "output_type": "execute_result"
    }
   ],
   "source": [
    "data.head()"
   ]
  },
  {
   "cell_type": "markdown",
   "metadata": {
    "id": "1CDH8LHUb7Ly"
   },
   "source": [
    "## Drop Duplicate"
   ]
  },
  {
   "cell_type": "code",
   "execution_count": null,
   "metadata": {
    "colab": {
     "base_uri": "https://localhost:8080/"
    },
    "id": "iWMzZNwqbGYk",
    "outputId": "b7b2f799-1ca1-4314-9c2b-449286644dca"
   },
   "outputs": [
    {
     "data": {
      "text/plain": [
       "1664"
      ]
     },
     "execution_count": 3,
     "metadata": {
      "tags": []
     },
     "output_type": "execute_result"
    }
   ],
   "source": [
    "data.duplicated().sum()"
   ]
  },
  {
   "cell_type": "code",
   "execution_count": 4,
   "metadata": {
    "colab": {
     "base_uri": "https://localhost:8080/"
    },
    "id": "ghEk7_PFbVfE",
    "outputId": "d00ab6d7-2f79-4639-ac09-ed061220c188"
   },
   "outputs": [
    {
     "data": {
      "text/plain": [
       "0"
      ]
     },
     "execution_count": 4,
     "metadata": {},
     "output_type": "execute_result"
    }
   ],
   "source": [
    "data.drop_duplicates(inplace=True)\n",
    "data.duplicated().sum()"
   ]
  },
  {
   "cell_type": "markdown",
   "metadata": {
    "id": "uZr24fK6cDBg"
   },
   "source": [
    "## Drop Null"
   ]
  },
  {
   "cell_type": "code",
   "execution_count": null,
   "metadata": {
    "colab": {
     "base_uri": "https://localhost:8080/"
    },
    "id": "WxrHv6PMZvJS",
    "outputId": "f658691b-3696-4c68-8eec-03565893c99f"
   },
   "outputs": [
    {
     "data": {
      "text/plain": [
       "hotel                                 0\n",
       "is_canceled                           0\n",
       "lead_time                             0\n",
       "arrival_date_year                     0\n",
       "arrival_date_month                    0\n",
       "arrival_date_week_number              0\n",
       "arrival_date_day_of_month             0\n",
       "stays_in_weekend_nights               0\n",
       "stays_in_week_nights                  0\n",
       "adults                                0\n",
       "children                              4\n",
       "babies                                0\n",
       "meal                                  0\n",
       "country                             452\n",
       "market_segment                        0\n",
       "distribution_channel                  0\n",
       "is_repeated_guest                     0\n",
       "previous_cancellations                0\n",
       "previous_bookings_not_canceled        0\n",
       "reserved_room_type                    0\n",
       "assigned_room_type                    0\n",
       "booking_changes                       0\n",
       "deposit_type                          0\n",
       "agent                             12193\n",
       "company                           82137\n",
       "days_in_waiting_list                  0\n",
       "customer_type                         0\n",
       "adr                                   0\n",
       "required_car_parking_spaces           0\n",
       "total_of_special_requests             0\n",
       "reservation_status                    0\n",
       "reservation_status_date               0\n",
       "dtype: int64"
      ]
     },
     "execution_count": 6,
     "metadata": {
      "tags": []
     },
     "output_type": "execute_result"
    }
   ],
   "source": [
    "data.isnull().sum()"
   ]
  },
  {
   "cell_type": "code",
   "execution_count": null,
   "metadata": {
    "colab": {
     "base_uri": "https://localhost:8080/"
    },
    "id": "fWhV5pbgZ6io",
    "outputId": "f047382b-2c00-4a07-89f5-f9ff4aae78da"
   },
   "outputs": [
    {
     "data": {
      "text/plain": [
       "0.9999542313149343"
      ]
     },
     "execution_count": 6,
     "metadata": {
      "tags": []
     },
     "output_type": "execute_result"
    }
   ],
   "source": [
    "len(data['children'].dropna())/len(data)"
   ]
  },
  {
   "cell_type": "code",
   "execution_count": null,
   "metadata": {
    "colab": {
     "base_uri": "https://localhost:8080/"
    },
    "id": "xBFAKXdqacDm",
    "outputId": "1a86328f-0e32-43bb-f2d9-898ae9b61bfb"
   },
   "outputs": [
    {
     "data": {
      "text/plain": [
       "0.9948281385875783"
      ]
     },
     "execution_count": 7,
     "metadata": {
      "tags": []
     },
     "output_type": "execute_result"
    }
   ],
   "source": [
    "len(data['country'].dropna())/len(data)"
   ]
  },
  {
   "cell_type": "code",
   "execution_count": 5,
   "metadata": {
    "colab": {
     "base_uri": "https://localhost:8080/"
    },
    "id": "o3xZxlUsafej",
    "outputId": "c6531612-86c7-4526-de21-43448735302d"
   },
   "outputs": [
    {
     "data": {
      "text/plain": [
       "hotel                             0\n",
       "is_canceled                       0\n",
       "lead_time                         0\n",
       "arrival_date_year                 0\n",
       "arrival_date_month                0\n",
       "arrival_date_week_number          0\n",
       "arrival_date_day_of_month         0\n",
       "stays_in_weekend_nights           0\n",
       "stays_in_week_nights              0\n",
       "adults                            0\n",
       "children                          0\n",
       "babies                            0\n",
       "meal                              0\n",
       "country                           0\n",
       "market_segment                    0\n",
       "distribution_channel              0\n",
       "is_repeated_guest                 0\n",
       "previous_cancellations            0\n",
       "previous_bookings_not_canceled    0\n",
       "reserved_room_type                0\n",
       "assigned_room_type                0\n",
       "booking_changes                   0\n",
       "deposit_type                      0\n",
       "agent                             0\n",
       "company                           0\n",
       "days_in_waiting_list              0\n",
       "customer_type                     0\n",
       "adr                               0\n",
       "required_car_parking_spaces       0\n",
       "total_of_special_requests         0\n",
       "reservation_status                0\n",
       "reservation_status_date           0\n",
       "dtype: int64"
      ]
     },
     "execution_count": 5,
     "metadata": {},
     "output_type": "execute_result"
    }
   ],
   "source": [
    "data.dropna(subset=['country'],inplace=True)\n",
    "data.dropna(subset=['children'],inplace=True)\n",
    "\n",
    "data.agent.fillna(0,inplace=True)\n",
    "data.company.fillna(0,inplace=True)\n",
    "data.isnull().sum()"
   ]
  },
  {
   "cell_type": "code",
   "execution_count": null,
   "metadata": {
    "colab": {
     "base_uri": "https://localhost:8080/"
    },
    "id": "yMqGLUxca0VE",
    "outputId": "ff896015-a04a-48d8-cebc-6e9a0c6547ca"
   },
   "outputs": [
    {
     "name": "stdout",
     "output_type": "stream",
     "text": [
      "<class 'pandas.core.frame.DataFrame'>\n",
      "Int64Index: 86940 entries, 0 to 119389\n",
      "Data columns (total 32 columns):\n",
      " #   Column                          Non-Null Count  Dtype  \n",
      "---  ------                          --------------  -----  \n",
      " 0   hotel                           86940 non-null  object \n",
      " 1   is_canceled                     86940 non-null  int64  \n",
      " 2   lead_time                       86940 non-null  int64  \n",
      " 3   arrival_date_year               86940 non-null  int64  \n",
      " 4   arrival_date_month              86940 non-null  object \n",
      " 5   arrival_date_week_number        86940 non-null  int64  \n",
      " 6   arrival_date_day_of_month       86940 non-null  int64  \n",
      " 7   stays_in_weekend_nights         86940 non-null  int64  \n",
      " 8   stays_in_week_nights            86940 non-null  int64  \n",
      " 9   adults                          86940 non-null  int64  \n",
      " 10  children                        86940 non-null  float64\n",
      " 11  babies                          86940 non-null  int64  \n",
      " 12  meal                            86940 non-null  object \n",
      " 13  country                         86940 non-null  object \n",
      " 14  market_segment                  86940 non-null  object \n",
      " 15  distribution_channel            86940 non-null  object \n",
      " 16  is_repeated_guest               86940 non-null  int64  \n",
      " 17  previous_cancellations          86940 non-null  int64  \n",
      " 18  previous_bookings_not_canceled  86940 non-null  int64  \n",
      " 19  reserved_room_type              86940 non-null  object \n",
      " 20  assigned_room_type              86940 non-null  object \n",
      " 21  booking_changes                 86940 non-null  int64  \n",
      " 22  deposit_type                    86940 non-null  object \n",
      " 23  agent                           86940 non-null  float64\n",
      " 24  company                         86940 non-null  float64\n",
      " 25  days_in_waiting_list            86940 non-null  int64  \n",
      " 26  customer_type                   86940 non-null  object \n",
      " 27  adr                             86940 non-null  float64\n",
      " 28  required_car_parking_spaces     86940 non-null  int64  \n",
      " 29  total_of_special_requests       86940 non-null  int64  \n",
      " 30  reservation_status              86940 non-null  object \n",
      " 31  reservation_status_date         86940 non-null  object \n",
      "dtypes: float64(4), int64(16), object(12)\n",
      "memory usage: 21.9+ MB\n"
     ]
    }
   ],
   "source": [
    "data.info()"
   ]
  },
  {
   "cell_type": "code",
   "execution_count": null,
   "metadata": {
    "colab": {
     "base_uri": "https://localhost:8080/",
     "height": 317
    },
    "id": "m7r5EOBca_ZR",
    "outputId": "e5f9a62b-6544-4b1d-bb5f-15b72af32529"
   },
   "outputs": [
    {
     "data": {
      "text/html": [
       "<div>\n",
       "<style scoped>\n",
       "    .dataframe tbody tr th:only-of-type {\n",
       "        vertical-align: middle;\n",
       "    }\n",
       "\n",
       "    .dataframe tbody tr th {\n",
       "        vertical-align: top;\n",
       "    }\n",
       "\n",
       "    .dataframe thead th {\n",
       "        text-align: right;\n",
       "    }\n",
       "</style>\n",
       "<table border=\"1\" class=\"dataframe\">\n",
       "  <thead>\n",
       "    <tr style=\"text-align: right;\">\n",
       "      <th></th>\n",
       "      <th>is_canceled</th>\n",
       "      <th>lead_time</th>\n",
       "      <th>arrival_date_year</th>\n",
       "      <th>arrival_date_week_number</th>\n",
       "      <th>arrival_date_day_of_month</th>\n",
       "      <th>stays_in_weekend_nights</th>\n",
       "      <th>stays_in_week_nights</th>\n",
       "      <th>adults</th>\n",
       "      <th>children</th>\n",
       "      <th>babies</th>\n",
       "      <th>is_repeated_guest</th>\n",
       "      <th>previous_cancellations</th>\n",
       "      <th>previous_bookings_not_canceled</th>\n",
       "      <th>booking_changes</th>\n",
       "      <th>agent</th>\n",
       "      <th>company</th>\n",
       "      <th>days_in_waiting_list</th>\n",
       "      <th>adr</th>\n",
       "      <th>required_car_parking_spaces</th>\n",
       "      <th>total_of_special_requests</th>\n",
       "    </tr>\n",
       "  </thead>\n",
       "  <tbody>\n",
       "    <tr>\n",
       "      <th>count</th>\n",
       "      <td>86940.000000</td>\n",
       "      <td>86940.000000</td>\n",
       "      <td>86940.000000</td>\n",
       "      <td>86940.000000</td>\n",
       "      <td>86940.000000</td>\n",
       "      <td>86940.000000</td>\n",
       "      <td>86940.000000</td>\n",
       "      <td>86940.000000</td>\n",
       "      <td>86940.000000</td>\n",
       "      <td>86940.000000</td>\n",
       "      <td>86940.000000</td>\n",
       "      <td>86940.000000</td>\n",
       "      <td>86940.000000</td>\n",
       "      <td>86940.000000</td>\n",
       "      <td>86940.00000</td>\n",
       "      <td>86940.000000</td>\n",
       "      <td>86940.000000</td>\n",
       "      <td>86940.000000</td>\n",
       "      <td>86940.000000</td>\n",
       "      <td>86940.000000</td>\n",
       "    </tr>\n",
       "    <tr>\n",
       "      <th>mean</th>\n",
       "      <td>0.275903</td>\n",
       "      <td>80.193375</td>\n",
       "      <td>2016.211824</td>\n",
       "      <td>26.841477</td>\n",
       "      <td>15.818024</td>\n",
       "      <td>1.007396</td>\n",
       "      <td>2.628744</td>\n",
       "      <td>1.878525</td>\n",
       "      <td>0.139211</td>\n",
       "      <td>0.010835</td>\n",
       "      <td>0.039234</td>\n",
       "      <td>0.030228</td>\n",
       "      <td>0.176708</td>\n",
       "      <td>0.271854</td>\n",
       "      <td>81.11210</td>\n",
       "      <td>10.741822</td>\n",
       "      <td>0.753497</td>\n",
       "      <td>106.574804</td>\n",
       "      <td>0.083448</td>\n",
       "      <td>0.699459</td>\n",
       "    </tr>\n",
       "    <tr>\n",
       "      <th>std</th>\n",
       "      <td>0.446971</td>\n",
       "      <td>86.100147</td>\n",
       "      <td>0.686016</td>\n",
       "      <td>13.654505</td>\n",
       "      <td>8.834469</td>\n",
       "      <td>1.028763</td>\n",
       "      <td>2.043753</td>\n",
       "      <td>0.625860</td>\n",
       "      <td>0.456786</td>\n",
       "      <td>0.113592</td>\n",
       "      <td>0.194152</td>\n",
       "      <td>0.369574</td>\n",
       "      <td>1.717885</td>\n",
       "      <td>0.728090</td>\n",
       "      <td>109.94501</td>\n",
       "      <td>53.492220</td>\n",
       "      <td>10.041816</td>\n",
       "      <td>54.957439</td>\n",
       "      <td>0.280402</td>\n",
       "      <td>0.831840</td>\n",
       "    </tr>\n",
       "    <tr>\n",
       "      <th>min</th>\n",
       "      <td>0.000000</td>\n",
       "      <td>0.000000</td>\n",
       "      <td>2015.000000</td>\n",
       "      <td>1.000000</td>\n",
       "      <td>1.000000</td>\n",
       "      <td>0.000000</td>\n",
       "      <td>0.000000</td>\n",
       "      <td>0.000000</td>\n",
       "      <td>0.000000</td>\n",
       "      <td>0.000000</td>\n",
       "      <td>0.000000</td>\n",
       "      <td>0.000000</td>\n",
       "      <td>0.000000</td>\n",
       "      <td>0.000000</td>\n",
       "      <td>0.00000</td>\n",
       "      <td>0.000000</td>\n",
       "      <td>0.000000</td>\n",
       "      <td>-6.380000</td>\n",
       "      <td>0.000000</td>\n",
       "      <td>0.000000</td>\n",
       "    </tr>\n",
       "    <tr>\n",
       "      <th>25%</th>\n",
       "      <td>0.000000</td>\n",
       "      <td>12.000000</td>\n",
       "      <td>2016.000000</td>\n",
       "      <td>16.000000</td>\n",
       "      <td>8.000000</td>\n",
       "      <td>0.000000</td>\n",
       "      <td>1.000000</td>\n",
       "      <td>2.000000</td>\n",
       "      <td>0.000000</td>\n",
       "      <td>0.000000</td>\n",
       "      <td>0.000000</td>\n",
       "      <td>0.000000</td>\n",
       "      <td>0.000000</td>\n",
       "      <td>0.000000</td>\n",
       "      <td>9.00000</td>\n",
       "      <td>0.000000</td>\n",
       "      <td>0.000000</td>\n",
       "      <td>72.250000</td>\n",
       "      <td>0.000000</td>\n",
       "      <td>0.000000</td>\n",
       "    </tr>\n",
       "    <tr>\n",
       "      <th>50%</th>\n",
       "      <td>0.000000</td>\n",
       "      <td>50.000000</td>\n",
       "      <td>2016.000000</td>\n",
       "      <td>27.000000</td>\n",
       "      <td>16.000000</td>\n",
       "      <td>1.000000</td>\n",
       "      <td>2.000000</td>\n",
       "      <td>2.000000</td>\n",
       "      <td>0.000000</td>\n",
       "      <td>0.000000</td>\n",
       "      <td>0.000000</td>\n",
       "      <td>0.000000</td>\n",
       "      <td>0.000000</td>\n",
       "      <td>0.000000</td>\n",
       "      <td>9.00000</td>\n",
       "      <td>0.000000</td>\n",
       "      <td>0.000000</td>\n",
       "      <td>98.400000</td>\n",
       "      <td>0.000000</td>\n",
       "      <td>0.000000</td>\n",
       "    </tr>\n",
       "    <tr>\n",
       "      <th>75%</th>\n",
       "      <td>1.000000</td>\n",
       "      <td>125.000000</td>\n",
       "      <td>2017.000000</td>\n",
       "      <td>37.000000</td>\n",
       "      <td>23.000000</td>\n",
       "      <td>2.000000</td>\n",
       "      <td>4.000000</td>\n",
       "      <td>2.000000</td>\n",
       "      <td>0.000000</td>\n",
       "      <td>0.000000</td>\n",
       "      <td>0.000000</td>\n",
       "      <td>0.000000</td>\n",
       "      <td>0.000000</td>\n",
       "      <td>0.000000</td>\n",
       "      <td>240.00000</td>\n",
       "      <td>0.000000</td>\n",
       "      <td>0.000000</td>\n",
       "      <td>134.100000</td>\n",
       "      <td>0.000000</td>\n",
       "      <td>1.000000</td>\n",
       "    </tr>\n",
       "    <tr>\n",
       "      <th>max</th>\n",
       "      <td>1.000000</td>\n",
       "      <td>737.000000</td>\n",
       "      <td>2017.000000</td>\n",
       "      <td>53.000000</td>\n",
       "      <td>31.000000</td>\n",
       "      <td>16.000000</td>\n",
       "      <td>41.000000</td>\n",
       "      <td>55.000000</td>\n",
       "      <td>10.000000</td>\n",
       "      <td>10.000000</td>\n",
       "      <td>1.000000</td>\n",
       "      <td>26.000000</td>\n",
       "      <td>72.000000</td>\n",
       "      <td>21.000000</td>\n",
       "      <td>535.00000</td>\n",
       "      <td>543.000000</td>\n",
       "      <td>391.000000</td>\n",
       "      <td>5400.000000</td>\n",
       "      <td>8.000000</td>\n",
       "      <td>5.000000</td>\n",
       "    </tr>\n",
       "  </tbody>\n",
       "</table>\n",
       "</div>"
      ],
      "text/plain": [
       "        is_canceled  ...  total_of_special_requests\n",
       "count  86940.000000  ...               86940.000000\n",
       "mean       0.275903  ...                   0.699459\n",
       "std        0.446971  ...                   0.831840\n",
       "min        0.000000  ...                   0.000000\n",
       "25%        0.000000  ...                   0.000000\n",
       "50%        0.000000  ...                   0.000000\n",
       "75%        1.000000  ...                   1.000000\n",
       "max        1.000000  ...                   5.000000\n",
       "\n",
       "[8 rows x 20 columns]"
      ]
     },
     "execution_count": 10,
     "metadata": {
      "tags": []
     },
     "output_type": "execute_result"
    }
   ],
   "source": [
    "data.describe()"
   ]
  },
  {
   "cell_type": "code",
   "execution_count": null,
   "metadata": {
    "id": "-zXqrC3sLZnK"
   },
   "outputs": [],
   "source": [
    "# for column in data.columns:\n",
    "#     print(column)\n",
    "#     print(data[column].unique())"
   ]
  },
  {
   "cell_type": "code",
   "execution_count": null,
   "metadata": {
    "id": "YkW9rlbekbxw"
   },
   "outputs": [],
   "source": [
    "months = ['January','February','March','April','May','June','July','August','September','October','November','December']\n",
    "data['arrival_date_month'] = pd.Categorical(data['arrival_date_month'], categories = months, ordered=True)\n",
    "data = data.sort_values(['arrival_date_month'])"
   ]
  },
  {
   "cell_type": "code",
   "execution_count": null,
   "metadata": {
    "colab": {
     "base_uri": "https://localhost:8080/",
     "height": 111
    },
    "id": "oQq4V-cocoaf",
    "outputId": "21cbb023-9274-47fa-e141-70d550fbf862"
   },
   "outputs": [
    {
     "data": {
      "text/html": [
       "<div>\n",
       "<style scoped>\n",
       "    .dataframe tbody tr th:only-of-type {\n",
       "        vertical-align: middle;\n",
       "    }\n",
       "\n",
       "    .dataframe tbody tr th {\n",
       "        vertical-align: top;\n",
       "    }\n",
       "\n",
       "    .dataframe thead th {\n",
       "        text-align: right;\n",
       "    }\n",
       "</style>\n",
       "<table border=\"1\" class=\"dataframe\">\n",
       "  <thead>\n",
       "    <tr style=\"text-align: right;\">\n",
       "      <th></th>\n",
       "      <th>is_canceled</th>\n",
       "      <th>Count</th>\n",
       "    </tr>\n",
       "  </thead>\n",
       "  <tbody>\n",
       "    <tr>\n",
       "      <th>0</th>\n",
       "      <td>0</td>\n",
       "      <td>62953</td>\n",
       "    </tr>\n",
       "    <tr>\n",
       "      <th>1</th>\n",
       "      <td>1</td>\n",
       "      <td>23987</td>\n",
       "    </tr>\n",
       "  </tbody>\n",
       "</table>\n",
       "</div>"
      ],
      "text/plain": [
       "   is_canceled  Count\n",
       "0            0  62953\n",
       "1            1  23987"
      ]
     },
     "execution_count": 20,
     "metadata": {
      "tags": []
     },
     "output_type": "execute_result"
    }
   ],
   "source": [
    "is_cancel_count"
   ]
  },
  {
   "cell_type": "code",
   "execution_count": null,
   "metadata": {
    "colab": {
     "base_uri": "https://localhost:8080/",
     "height": 627
    },
    "id": "UW0t97n7absV",
    "outputId": "cd5a3122-6d32-4bec-f45a-c8eebcb5ef1f"
   },
   "outputs": [
    {
     "data": {
      "image/png": "[encoded data removed]",
      "text/plain": [
       "<Figure size 936x720 with 1 Axes>"
      ]
     },
     "metadata": {
      "needs_background": "light",
      "tags": []
     },
     "output_type": "display_data"
    }
   ],
   "source": [
    "is_cancel_count = pd.DataFrame(data.groupby(['is_canceled']).size())\n",
    "is_cancel_count.columns = ['Count']\n",
    "is_cancel_count = is_cancel_count.reset_index()\n",
    "#is_cancel_count\n",
    "plt.figure(figsize = (13,10))\n",
    "plt.title(\"Canceled Reservation (1) vs Not canceled Reservation (0)\", fontdict={'fontsize': 20})\n",
    "ax = sns.barplot(x = \"is_canceled\", y = 'Count', data = is_cancel_count)"
   ]
  },
  {
   "cell_type": "code",
   "execution_count": null,
   "metadata": {
    "colab": {
     "base_uri": "https://localhost:8080/",
     "height": 627
    },
    "id": "618TrC_xWfaZ",
    "outputId": "d93fe49d-dcbf-440a-936e-cb36df2062cf"
   },
   "outputs": [
    {
     "data": {
      "image/png": "[encoded data removed]",
      "text/plain": [
       "<Figure size 936x720 with 1 Axes>"
      ]
     },
     "metadata": {
      "needs_background": "light",
      "tags": []
     },
     "output_type": "display_data"
    }
   ],
   "source": [
    "# City Hotel vs Resort Hotel Reservation Status\n",
    "hotel_type_count = pd.DataFrame(data.groupby(['hotel'])['reservation_status'].size())\n",
    "hotel_type_count.columns = ['Count']\n",
    "hotel_type_count = hotel_type_count.reset_index()\n",
    "\n",
    "plt.figure(figsize = (13,10))\n",
    "plt.title(\"City Hotel vs Resort Hotel Customers\", fontdict={'fontsize': 20})\n",
    "ax = sns.barplot(x = \"hotel\", y = 'Count', data = hotel_type_count)"
   ]
  },
  {
   "cell_type": "code",
   "execution_count": null,
   "metadata": {
    "colab": {
     "base_uri": "https://localhost:8080/",
     "height": 111
    },
    "id": "5jjEBzspaPQh",
    "outputId": "49da91b8-7bd5-44fc-8bc5-dbdef94b5c06"
   },
   "outputs": [
    {
     "data": {
      "text/html": [
       "<div>\n",
       "<style scoped>\n",
       "    .dataframe tbody tr th:only-of-type {\n",
       "        vertical-align: middle;\n",
       "    }\n",
       "\n",
       "    .dataframe tbody tr th {\n",
       "        vertical-align: top;\n",
       "    }\n",
       "\n",
       "    .dataframe thead th {\n",
       "        text-align: right;\n",
       "    }\n",
       "</style>\n",
       "<table border=\"1\" class=\"dataframe\">\n",
       "  <thead>\n",
       "    <tr style=\"text-align: right;\">\n",
       "      <th></th>\n",
       "      <th>hotel</th>\n",
       "      <th>Count</th>\n",
       "    </tr>\n",
       "  </thead>\n",
       "  <tbody>\n",
       "    <tr>\n",
       "      <th>0</th>\n",
       "      <td>City Hotel</td>\n",
       "      <td>53418</td>\n",
       "    </tr>\n",
       "    <tr>\n",
       "      <th>1</th>\n",
       "      <td>Resort Hotel</td>\n",
       "      <td>33522</td>\n",
       "    </tr>\n",
       "  </tbody>\n",
       "</table>\n",
       "</div>"
      ],
      "text/plain": [
       "          hotel  Count\n",
       "0    City Hotel  53418\n",
       "1  Resort Hotel  33522"
      ]
     },
     "execution_count": 14,
     "metadata": {
      "tags": []
     },
     "output_type": "execute_result"
    }
   ],
   "source": [
    "hotel_type_count"
   ]
  },
  {
   "cell_type": "code",
   "execution_count": null,
   "metadata": {
    "colab": {
     "base_uri": "https://localhost:8080/",
     "height": 632
    },
    "id": "u1GyF8d3SwO_",
    "outputId": "18a6dcf7-5503-4ce1-de31-b36482bc664e"
   },
   "outputs": [
    {
     "data": {
      "image/png": "[encoded data removed]",
      "text/plain": [
       "<Figure size 936x720 with 1 Axes>"
      ]
     },
     "metadata": {
      "tags": []
     },
     "output_type": "display_data"
    }
   ],
   "source": [
    "plt.figure(figsize = (13,10))\n",
    "plt.title(\"Monthly Customers\", fontdict={'fontsize': 20})\n",
    "ax = sns.countplot(x = \"arrival_date_month\", hue = 'hotel', data = data)"
   ]
  },
  {
   "cell_type": "code",
   "execution_count": null,
   "metadata": {
    "colab": {
     "base_uri": "https://localhost:8080/",
     "height": 632
    },
    "id": "Y71OMYiNV0ke",
    "outputId": "07640125-f483-46e8-cef0-534d44ee4b44"
   },
   "outputs": [
    {
     "data": {
      "image/png": "[encoded data removed]",
      "text/plain": [
       "<Figure size 936x720 with 1 Axes>"
      ]
     },
     "metadata": {
      "tags": []
     },
     "output_type": "display_data"
    }
   ],
   "source": [
    "# City Hotel vs Resort Hotel Reservation Status\n",
    "plt.figure(figsize = (13,10))\n",
    "plt.title(\"City Hotel vs Resort Hotel Customers\", fontdict={'fontsize': 20})\n",
    "ax = sns.countplot(x = \"reservation_status\", hue = 'hotel', data = data)"
   ]
  },
  {
   "cell_type": "code",
   "execution_count": null,
   "metadata": {
    "colab": {
     "base_uri": "https://localhost:8080/",
     "height": 542
    },
    "id": "JHskrHHcjOaY",
    "outputId": "88494cef-0f9a-4231-8cf4-e82e52825edc"
   },
   "outputs": [
    {
     "data": {
      "text/html": [
       "<html>\n",
       "<head><meta charset=\"utf-8\" /></head>\n",
       "<body>\n",
       "    <div>\n",
       "            <script src=\"https://cdnjs.cloudflare.com/ajax/libs/mathjax/2.7.5/MathJax.js?config=TeX-AMS-MML_SVG\"></script><script type=\"text/javascript\">if (window.MathJax) {MathJax.Hub.Config({SVG: {font: \"STIX-Web\"}});}</script>\n",
       "                <script type=\"text/javascript\">window.PlotlyConfig = {MathJaxConfig: 'local'};</script>\n",
       "        <script src=\"https://cdn.plot.ly/plotly-latest.min.js\"></script>    \n",
       "            <div id=\"0301a669-1160-44d3-ba78-4ee53e82c1e7\" class=\"plotly-graph-div\" style=\"height:525px; width:100%;\"></div>\n",
       "            <script type=\"text/javascript\">\n",
       "                \n",
       "                    window.PLOTLYENV=window.PLOTLYENV || {};\n",
       "                    \n",
       "                if (document.getElementById(\"0301a669-1160-44d3-ba78-4ee53e82c1e7\")) {\n",
       "                    Plotly.newPlot(\n",
       "                        '0301a669-1160-44d3-ba78-4ee53e82c1e7',\n",
       "                        [{\"domain\": {\"x\": [0.0, 1.0], \"y\": [0.0, 1.0]}, \"hoverlabel\": {\"namelength\": 0}, \"hovertemplate\": \"is_canceled=%{label}<br>Count=%{value}\", \"labels\": [0, 1], \"legendgroup\": \"\", \"name\": \"\", \"showlegend\": true, \"textinfo\": \"value+percent+label\", \"textposition\": \"inside\", \"type\": \"pie\", \"values\": [62953, 23987]}],\n",
       "                        {\"legend\": {\"tracegroupgap\": 0}, \"template\": {\"data\": {\"bar\": [{\"error_x\": {\"color\": \"rgb(36,36,36)\"}, \"error_y\": {\"color\": \"rgb(36,36,36)\"}, \"marker\": {\"line\": {\"color\": \"rgb(234,234,242)\", \"width\": 0.5}}, \"type\": \"bar\"}], \"barpolar\": [{\"marker\": {\"line\": {\"color\": \"rgb(234,234,242)\", \"width\": 0.5}}, \"type\": \"barpolar\"}], \"carpet\": [{\"aaxis\": {\"endlinecolor\": \"rgb(36,36,36)\", \"gridcolor\": \"white\", \"linecolor\": \"white\", \"minorgridcolor\": \"white\", \"startlinecolor\": \"rgb(36,36,36)\"}, \"baxis\": {\"endlinecolor\": \"rgb(36,36,36)\", \"gridcolor\": \"white\", \"linecolor\": \"white\", \"minorgridcolor\": \"white\", \"startlinecolor\": \"rgb(36,36,36)\"}, \"type\": \"carpet\"}], \"choropleth\": [{\"colorbar\": {\"outlinewidth\": 0, \"tickcolor\": \"rgb(36,36,36)\", \"ticklen\": 8, \"ticks\": \"outside\", \"tickwidth\": 2}, \"type\": \"choropleth\"}], \"contour\": [{\"colorbar\": {\"outlinewidth\": 0, \"tickcolor\": \"rgb(36,36,36)\", \"ticklen\": 8, \"ticks\": \"outside\", \"tickwidth\": 2}, \"colorscale\": [[0.0, \"rgb(2,4,25)\"], [0.06274509803921569, \"rgb(24,15,41)\"], [0.12549019607843137, \"rgb(47,23,57)\"], [0.18823529411764706, \"rgb(71,28,72)\"], [0.25098039215686274, \"rgb(97,30,82)\"], [0.3137254901960784, \"rgb(123,30,89)\"], [0.3764705882352941, \"rgb(150,27,91)\"], [0.4392156862745098, \"rgb(177,22,88)\"], [0.5019607843137255, \"rgb(203,26,79)\"], [0.5647058823529412, \"rgb(223,47,67)\"], [0.6274509803921569, \"rgb(236,76,61)\"], [0.6901960784313725, \"rgb(242,107,73)\"], [0.7529411764705882, \"rgb(244,135,95)\"], [0.8156862745098039, \"rgb(245,162,122)\"], [0.8784313725490196, \"rgb(246,188,153)\"], [0.9411764705882353, \"rgb(247,212,187)\"], [1.0, \"rgb(250,234,220)\"]], \"type\": \"contour\"}], \"contourcarpet\": [{\"colorbar\": {\"outlinewidth\": 0, \"tickcolor\": \"rgb(36,36,36)\", \"ticklen\": 8, \"ticks\": \"outside\", \"tickwidth\": 2}, \"type\": \"contourcarpet\"}], \"heatmap\": [{\"colorbar\": {\"outlinewidth\": 0, \"tickcolor\": \"rgb(36,36,36)\", \"ticklen\": 8, \"ticks\": \"outside\", \"tickwidth\": 2}, \"colorscale\": [[0.0, \"rgb(2,4,25)\"], [0.06274509803921569, \"rgb(24,15,41)\"], [0.12549019607843137, \"rgb(47,23,57)\"], [0.18823529411764706, \"rgb(71,28,72)\"], [0.25098039215686274, \"rgb(97,30,82)\"], [0.3137254901960784, \"rgb(123,30,89)\"], [0.3764705882352941, \"rgb(150,27,91)\"], [0.4392156862745098, \"rgb(177,22,88)\"], [0.5019607843137255, \"rgb(203,26,79)\"], [0.5647058823529412, \"rgb(223,47,67)\"], [0.6274509803921569, \"rgb(236,76,61)\"], [0.6901960784313725, \"rgb(242,107,73)\"], [0.7529411764705882, \"rgb(244,135,95)\"], [0.8156862745098039, \"rgb(245,162,122)\"], [0.8784313725490196, \"rgb(246,188,153)\"], [0.9411764705882353, \"rgb(247,212,187)\"], [1.0, \"rgb(250,234,220)\"]], \"type\": \"heatmap\"}], \"heatmapgl\": [{\"colorbar\": {\"outlinewidth\": 0, \"tickcolor\": \"rgb(36,36,36)\", \"ticklen\": 8, \"ticks\": \"outside\", \"tickwidth\": 2}, \"colorscale\": [[0.0, \"rgb(2,4,25)\"], [0.06274509803921569, \"rgb(24,15,41)\"], [0.12549019607843137, \"rgb(47,23,57)\"], [0.18823529411764706, \"rgb(71,28,72)\"], [0.25098039215686274, \"rgb(97,30,82)\"], [0.3137254901960784, \"rgb(123,30,89)\"], [0.3764705882352941, \"rgb(150,27,91)\"], [0.4392156862745098, \"rgb(177,22,88)\"], [0.5019607843137255, \"rgb(203,26,79)\"], [0.5647058823529412, \"rgb(223,47,67)\"], [0.6274509803921569, \"rgb(236,76,61)\"], [0.6901960784313725, \"rgb(242,107,73)\"], [0.7529411764705882, \"rgb(244,135,95)\"], [0.8156862745098039, \"rgb(245,162,122)\"], [0.8784313725490196, \"rgb(246,188,153)\"], [0.9411764705882353, \"rgb(247,212,187)\"], [1.0, \"rgb(250,234,220)\"]], \"type\": \"heatmapgl\"}], \"histogram\": [{\"marker\": {\"colorbar\": {\"outlinewidth\": 0, \"tickcolor\": \"rgb(36,36,36)\", \"ticklen\": 8, \"ticks\": \"outside\", \"tickwidth\": 2}}, \"type\": \"histogram\"}], \"histogram2d\": [{\"colorbar\": {\"outlinewidth\": 0, \"tickcolor\": \"rgb(36,36,36)\", \"ticklen\": 8, \"ticks\": \"outside\", \"tickwidth\": 2}, \"colorscale\": [[0.0, \"rgb(2,4,25)\"], [0.06274509803921569, \"rgb(24,15,41)\"], [0.12549019607843137, \"rgb(47,23,57)\"], [0.18823529411764706, \"rgb(71,28,72)\"], [0.25098039215686274, \"rgb(97,30,82)\"], [0.3137254901960784, \"rgb(123,30,89)\"], [0.3764705882352941, \"rgb(150,27,91)\"], [0.4392156862745098, \"rgb(177,22,88)\"], [0.5019607843137255, \"rgb(203,26,79)\"], [0.5647058823529412, \"rgb(223,47,67)\"], [0.6274509803921569, \"rgb(236,76,61)\"], [0.6901960784313725, \"rgb(242,107,73)\"], [0.7529411764705882, \"rgb(244,135,95)\"], [0.8156862745098039, \"rgb(245,162,122)\"], [0.8784313725490196, \"rgb(246,188,153)\"], [0.9411764705882353, \"rgb(247,212,187)\"], [1.0, \"rgb(250,234,220)\"]], \"type\": \"histogram2d\"}], \"histogram2dcontour\": [{\"colorbar\": {\"outlinewidth\": 0, \"tickcolor\": \"rgb(36,36,36)\", \"ticklen\": 8, \"ticks\": \"outside\", \"tickwidth\": 2}, \"colorscale\": [[0.0, \"rgb(2,4,25)\"], [0.06274509803921569, \"rgb(24,15,41)\"], [0.12549019607843137, \"rgb(47,23,57)\"], [0.18823529411764706, \"rgb(71,28,72)\"], [0.25098039215686274, \"rgb(97,30,82)\"], [0.3137254901960784, \"rgb(123,30,89)\"], [0.3764705882352941, \"rgb(150,27,91)\"], [0.4392156862745098, \"rgb(177,22,88)\"], [0.5019607843137255, \"rgb(203,26,79)\"], [0.5647058823529412, \"rgb(223,47,67)\"], [0.6274509803921569, \"rgb(236,76,61)\"], [0.6901960784313725, \"rgb(242,107,73)\"], [0.7529411764705882, \"rgb(244,135,95)\"], [0.8156862745098039, \"rgb(245,162,122)\"], [0.8784313725490196, \"rgb(246,188,153)\"], [0.9411764705882353, \"rgb(247,212,187)\"], [1.0, \"rgb(250,234,220)\"]], \"type\": \"histogram2dcontour\"}], \"mesh3d\": [{\"colorbar\": {\"outlinewidth\": 0, \"tickcolor\": \"rgb(36,36,36)\", \"ticklen\": 8, \"ticks\": \"outside\", \"tickwidth\": 2}, \"type\": \"mesh3d\"}], \"parcoords\": [{\"line\": {\"colorbar\": {\"outlinewidth\": 0, \"tickcolor\": \"rgb(36,36,36)\", \"ticklen\": 8, \"ticks\": \"outside\", \"tickwidth\": 2}}, \"type\": \"parcoords\"}], \"pie\": [{\"automargin\": true, \"type\": \"pie\"}], \"scatter\": [{\"marker\": {\"colorbar\": {\"outlinewidth\": 0, \"tickcolor\": \"rgb(36,36,36)\", \"ticklen\": 8, \"ticks\": \"outside\", \"tickwidth\": 2}}, \"type\": \"scatter\"}], \"scatter3d\": [{\"line\": {\"colorbar\": {\"outlinewidth\": 0, \"tickcolor\": \"rgb(36,36,36)\", \"ticklen\": 8, \"ticks\": \"outside\", \"tickwidth\": 2}}, \"marker\": {\"colorbar\": {\"outlinewidth\": 0, \"tickcolor\": \"rgb(36,36,36)\", \"ticklen\": 8, \"ticks\": \"outside\", \"tickwidth\": 2}}, \"type\": \"scatter3d\"}], \"scattercarpet\": [{\"marker\": {\"colorbar\": {\"outlinewidth\": 0, \"tickcolor\": \"rgb(36,36,36)\", \"ticklen\": 8, \"ticks\": \"outside\", \"tickwidth\": 2}}, \"type\": \"scattercarpet\"}], \"scattergeo\": [{\"marker\": {\"colorbar\": {\"outlinewidth\": 0, \"tickcolor\": \"rgb(36,36,36)\", \"ticklen\": 8, \"ticks\": \"outside\", \"tickwidth\": 2}}, \"type\": \"scattergeo\"}], \"scattergl\": [{\"marker\": {\"colorbar\": {\"outlinewidth\": 0, \"tickcolor\": \"rgb(36,36,36)\", \"ticklen\": 8, \"ticks\": \"outside\", \"tickwidth\": 2}}, \"type\": \"scattergl\"}], \"scattermapbox\": [{\"marker\": {\"colorbar\": {\"outlinewidth\": 0, \"tickcolor\": \"rgb(36,36,36)\", \"ticklen\": 8, \"ticks\": \"outside\", \"tickwidth\": 2}}, \"type\": \"scattermapbox\"}], \"scatterpolar\": [{\"marker\": {\"colorbar\": {\"outlinewidth\": 0, \"tickcolor\": \"rgb(36,36,36)\", \"ticklen\": 8, \"ticks\": \"outside\", \"tickwidth\": 2}}, \"type\": \"scatterpolar\"}], \"scatterpolargl\": [{\"marker\": {\"colorbar\": {\"outlinewidth\": 0, \"tickcolor\": \"rgb(36,36,36)\", \"ticklen\": 8, \"ticks\": \"outside\", \"tickwidth\": 2}}, \"type\": \"scatterpolargl\"}], \"scatterternary\": [{\"marker\": {\"colorbar\": {\"outlinewidth\": 0, \"tickcolor\": \"rgb(36,36,36)\", \"ticklen\": 8, \"ticks\": \"outside\", \"tickwidth\": 2}}, \"type\": \"scatterternary\"}], \"surface\": [{\"colorbar\": {\"outlinewidth\": 0, \"tickcolor\": \"rgb(36,36,36)\", \"ticklen\": 8, \"ticks\": \"outside\", \"tickwidth\": 2}, \"colorscale\": [[0.0, \"rgb(2,4,25)\"], [0.06274509803921569, \"rgb(24,15,41)\"], [0.12549019607843137, \"rgb(47,23,57)\"], [0.18823529411764706, \"rgb(71,28,72)\"], [0.25098039215686274, \"rgb(97,30,82)\"], [0.3137254901960784, \"rgb(123,30,89)\"], [0.3764705882352941, \"rgb(150,27,91)\"], [0.4392156862745098, \"rgb(177,22,88)\"], [0.5019607843137255, \"rgb(203,26,79)\"], [0.5647058823529412, \"rgb(223,47,67)\"], [0.6274509803921569, \"rgb(236,76,61)\"], [0.6901960784313725, \"rgb(242,107,73)\"], [0.7529411764705882, \"rgb(244,135,95)\"], [0.8156862745098039, \"rgb(245,162,122)\"], [0.8784313725490196, \"rgb(246,188,153)\"], [0.9411764705882353, \"rgb(247,212,187)\"], [1.0, \"rgb(250,234,220)\"]], \"type\": \"surface\"}], \"table\": [{\"cells\": {\"fill\": {\"color\": \"rgb(231,231,240)\"}, \"line\": {\"color\": \"white\"}}, \"header\": {\"fill\": {\"color\": \"rgb(183,183,191)\"}, \"line\": {\"color\": \"white\"}}, \"type\": \"table\"}]}, \"layout\": {\"annotationdefaults\": {\"arrowcolor\": \"rgb(67,103,167)\"}, \"coloraxis\": {\"colorbar\": {\"outlinewidth\": 0, \"tickcolor\": \"rgb(36,36,36)\", \"ticklen\": 8, \"ticks\": \"outside\", \"tickwidth\": 2}}, \"colorscale\": {\"sequential\": [[0.0, \"rgb(2,4,25)\"], [0.06274509803921569, \"rgb(24,15,41)\"], [0.12549019607843137, \"rgb(47,23,57)\"], [0.18823529411764706, \"rgb(71,28,72)\"], [0.25098039215686274, \"rgb(97,30,82)\"], [0.3137254901960784, \"rgb(123,30,89)\"], [0.3764705882352941, \"rgb(150,27,91)\"], [0.4392156862745098, \"rgb(177,22,88)\"], [0.5019607843137255, \"rgb(203,26,79)\"], [0.5647058823529412, \"rgb(223,47,67)\"], [0.6274509803921569, \"rgb(236,76,61)\"], [0.6901960784313725, \"rgb(242,107,73)\"], [0.7529411764705882, \"rgb(244,135,95)\"], [0.8156862745098039, \"rgb(245,162,122)\"], [0.8784313725490196, \"rgb(246,188,153)\"], [0.9411764705882353, \"rgb(247,212,187)\"], [1.0, \"rgb(250,234,220)\"]], \"sequentialminus\": [[0.0, \"rgb(2,4,25)\"], [0.06274509803921569, \"rgb(24,15,41)\"], [0.12549019607843137, \"rgb(47,23,57)\"], [0.18823529411764706, \"rgb(71,28,72)\"], [0.25098039215686274, \"rgb(97,30,82)\"], [0.3137254901960784, \"rgb(123,30,89)\"], [0.3764705882352941, \"rgb(150,27,91)\"], [0.4392156862745098, \"rgb(177,22,88)\"], [0.5019607843137255, \"rgb(203,26,79)\"], [0.5647058823529412, \"rgb(223,47,67)\"], [0.6274509803921569, \"rgb(236,76,61)\"], [0.6901960784313725, \"rgb(242,107,73)\"], [0.7529411764705882, \"rgb(244,135,95)\"], [0.8156862745098039, \"rgb(245,162,122)\"], [0.8784313725490196, \"rgb(246,188,153)\"], [0.9411764705882353, \"rgb(247,212,187)\"], [1.0, \"rgb(250,234,220)\"]]}, \"colorway\": [\"rgb(76,114,176)\", \"rgb(221,132,82)\", \"rgb(85,168,104)\", \"rgb(196,78,82)\", \"rgb(129,114,179)\", \"rgb(147,120,96)\", \"rgb(218,139,195)\", \"rgb(140,140,140)\", \"rgb(204,185,116)\", \"rgb(100,181,205)\"], \"font\": {\"color\": \"rgb(36,36,36)\"}, \"geo\": {\"bgcolor\": \"white\", \"lakecolor\": \"white\", \"landcolor\": \"rgb(234,234,242)\", \"showlakes\": true, \"showland\": true, \"subunitcolor\": \"white\"}, \"hoverlabel\": {\"align\": \"left\"}, \"hovermode\": \"closest\", \"paper_bgcolor\": \"white\", \"plot_bgcolor\": \"rgb(234,234,242)\", \"polar\": {\"angularaxis\": {\"gridcolor\": \"white\", \"linecolor\": \"white\", \"showgrid\": true, \"ticks\": \"\"}, \"bgcolor\": \"rgb(234,234,242)\", \"radialaxis\": {\"gridcolor\": \"white\", \"linecolor\": \"white\", \"showgrid\": true, \"ticks\": \"\"}}, \"scene\": {\"xaxis\": {\"backgroundcolor\": \"rgb(234,234,242)\", \"gridcolor\": \"white\", \"gridwidth\": 2, \"linecolor\": \"white\", \"showbackground\": true, \"showgrid\": true, \"ticks\": \"\", \"zerolinecolor\": \"white\"}, \"yaxis\": {\"backgroundcolor\": \"rgb(234,234,242)\", \"gridcolor\": \"white\", \"gridwidth\": 2, \"linecolor\": \"white\", \"showbackground\": true, \"showgrid\": true, \"ticks\": \"\", \"zerolinecolor\": \"white\"}, \"zaxis\": {\"backgroundcolor\": \"rgb(234,234,242)\", \"gridcolor\": \"white\", \"gridwidth\": 2, \"linecolor\": \"white\", \"showbackground\": true, \"showgrid\": true, \"ticks\": \"\", \"zerolinecolor\": \"white\"}}, \"shapedefaults\": {\"fillcolor\": \"rgb(67,103,167)\", \"line\": {\"width\": 0}, \"opacity\": 0.5}, \"ternary\": {\"aaxis\": {\"gridcolor\": \"white\", \"linecolor\": \"white\", \"showgrid\": true, \"ticks\": \"\"}, \"baxis\": {\"gridcolor\": \"white\", \"linecolor\": \"white\", \"showgrid\": true, \"ticks\": \"\"}, \"bgcolor\": \"rgb(234,234,242)\", \"caxis\": {\"gridcolor\": \"white\", \"linecolor\": \"white\", \"showgrid\": true, \"ticks\": \"\"}}, \"xaxis\": {\"automargin\": true, \"gridcolor\": \"white\", \"linecolor\": \"white\", \"showgrid\": true, \"ticks\": \"\", \"title\": {\"standoff\": 15}, \"zerolinecolor\": \"white\"}, \"yaxis\": {\"automargin\": true, \"gridcolor\": \"white\", \"linecolor\": \"white\", \"showgrid\": true, \"ticks\": \"\", \"title\": {\"standoff\": 15}, \"zerolinecolor\": \"white\"}}}, \"title\": {\"text\": \"Is canceled\"}},\n",
       "                        {\"responsive\": true}\n",
       "                    ).then(function(){\n",
       "                            \n",
       "var gd = document.getElementById('0301a669-1160-44d3-ba78-4ee53e82c1e7');\n",
       "var x = new MutationObserver(function (mutations, observer) {{\n",
       "        var display = window.getComputedStyle(gd).display;\n",
       "        if (!display || display === 'none') {{\n",
       "            console.log([gd, 'removed!']);\n",
       "            Plotly.purge(gd);\n",
       "            observer.disconnect();\n",
       "        }}\n",
       "}});\n",
       "\n",
       "// Listen for the removal of the full notebook cells\n",
       "var notebookContainer = gd.closest('#notebook-container');\n",
       "if (notebookContainer) {{\n",
       "    x.observe(notebookContainer, {childList: true});\n",
       "}}\n",
       "\n",
       "// Listen for the clearing of the current output cell\n",
       "var outputEl = gd.closest('.output');\n",
       "if (outputEl) {{\n",
       "    x.observe(outputEl, {childList: true});\n",
       "}}\n",
       "\n",
       "                        })\n",
       "                };\n",
       "                \n",
       "            </script>\n",
       "        </div>\n",
       "</body>\n",
       "</html>"
      ]
     },
     "metadata": {
      "tags": []
     },
     "output_type": "display_data"
    }
   ],
   "source": [
    "# Pie plot\n",
    "count_is_canceled = pd.DataFrame(data.groupby(['is_canceled']).size())\n",
    "count_is_canceled.columns = ['Count']\n",
    "count_is_canceled = count_is_canceled.reset_index()\n",
    "\n",
    "fig = px.pie(count_is_canceled, values =\"Count\", names=\"is_canceled\", title=\"Is canceled\", template=\"seaborn\")\n",
    "fig.update_traces(textposition=\"inside\", textinfo=\"value+percent+label\")\n",
    "fig.show()"
   ]
  },
  {
   "cell_type": "code",
   "execution_count": null,
   "metadata": {
    "colab": {
     "base_uri": "https://localhost:8080/",
     "height": 542
    },
    "id": "9MEVKR30chij",
    "outputId": "58307ac5-f45a-4bee-a1fa-58df5ea64cef"
   },
   "outputs": [
    {
     "data": {
      "text/html": [
       "<html>\n",
       "<head><meta charset=\"utf-8\" /></head>\n",
       "<body>\n",
       "    <div>\n",
       "            <script src=\"https://cdnjs.cloudflare.com/ajax/libs/mathjax/2.7.5/MathJax.js?config=TeX-AMS-MML_SVG\"></script><script type=\"text/javascript\">if (window.MathJax) {MathJax.Hub.Config({SVG: {font: \"STIX-Web\"}});}</script>\n",
       "                <script type=\"text/javascript\">window.PlotlyConfig = {MathJaxConfig: 'local'};</script>\n",
       "        <script src=\"https://cdn.plot.ly/plotly-latest.min.js\"></script>    \n",
       "            <div id=\"66e7080b-ff00-4b40-a184-6c90fa15538b\" class=\"plotly-graph-div\" style=\"height:525px; width:100%;\"></div>\n",
       "            <script type=\"text/javascript\">\n",
       "                \n",
       "                    window.PLOTLYENV=window.PLOTLYENV || {};\n",
       "                    \n",
       "                if (document.getElementById(\"66e7080b-ff00-4b40-a184-6c90fa15538b\")) {\n",
       "                    Plotly.newPlot(\n",
       "                        '66e7080b-ff00-4b40-a184-6c90fa15538b',\n",
       "                        [{\"domain\": {\"x\": [0.0, 1.0], \"y\": [0.0, 1.0]}, \"hoverlabel\": {\"namelength\": 0}, \"hovertemplate\": \"reservation_status=%{label}<br>Count=%{value}\", \"labels\": [\"Canceled\", \"Check-Out\", \"No-Show\"], \"legendgroup\": \"\", \"name\": \"\", \"showlegend\": true, \"textinfo\": \"value+percent+label\", \"textposition\": \"inside\", \"type\": \"pie\", \"values\": [22977, 62953, 1010]}],\n",
       "                        {\"legend\": {\"tracegroupgap\": 0}, \"template\": {\"data\": {\"bar\": [{\"error_x\": {\"color\": \"rgb(36,36,36)\"}, \"error_y\": {\"color\": \"rgb(36,36,36)\"}, \"marker\": {\"line\": {\"color\": \"rgb(234,234,242)\", \"width\": 0.5}}, \"type\": \"bar\"}], \"barpolar\": [{\"marker\": {\"line\": {\"color\": \"rgb(234,234,242)\", \"width\": 0.5}}, \"type\": \"barpolar\"}], \"carpet\": [{\"aaxis\": {\"endlinecolor\": \"rgb(36,36,36)\", \"gridcolor\": \"white\", \"linecolor\": \"white\", \"minorgridcolor\": \"white\", \"startlinecolor\": \"rgb(36,36,36)\"}, \"baxis\": {\"endlinecolor\": \"rgb(36,36,36)\", \"gridcolor\": \"white\", \"linecolor\": \"white\", \"minorgridcolor\": \"white\", \"startlinecolor\": \"rgb(36,36,36)\"}, \"type\": \"carpet\"}], \"choropleth\": [{\"colorbar\": {\"outlinewidth\": 0, \"tickcolor\": \"rgb(36,36,36)\", \"ticklen\": 8, \"ticks\": \"outside\", \"tickwidth\": 2}, \"type\": \"choropleth\"}], \"contour\": [{\"colorbar\": {\"outlinewidth\": 0, \"tickcolor\": \"rgb(36,36,36)\", \"ticklen\": 8, \"ticks\": \"outside\", \"tickwidth\": 2}, \"colorscale\": [[0.0, \"rgb(2,4,25)\"], [0.06274509803921569, \"rgb(24,15,41)\"], [0.12549019607843137, \"rgb(47,23,57)\"], [0.18823529411764706, \"rgb(71,28,72)\"], [0.25098039215686274, \"rgb(97,30,82)\"], [0.3137254901960784, \"rgb(123,30,89)\"], [0.3764705882352941, \"rgb(150,27,91)\"], [0.4392156862745098, \"rgb(177,22,88)\"], [0.5019607843137255, \"rgb(203,26,79)\"], [0.5647058823529412, \"rgb(223,47,67)\"], [0.6274509803921569, \"rgb(236,76,61)\"], [0.6901960784313725, \"rgb(242,107,73)\"], [0.7529411764705882, \"rgb(244,135,95)\"], [0.8156862745098039, \"rgb(245,162,122)\"], [0.8784313725490196, \"rgb(246,188,153)\"], [0.9411764705882353, \"rgb(247,212,187)\"], [1.0, \"rgb(250,234,220)\"]], \"type\": \"contour\"}], \"contourcarpet\": [{\"colorbar\": {\"outlinewidth\": 0, \"tickcolor\": \"rgb(36,36,36)\", \"ticklen\": 8, \"ticks\": \"outside\", \"tickwidth\": 2}, \"type\": \"contourcarpet\"}], \"heatmap\": [{\"colorbar\": {\"outlinewidth\": 0, \"tickcolor\": \"rgb(36,36,36)\", \"ticklen\": 8, \"ticks\": \"outside\", \"tickwidth\": 2}, \"colorscale\": [[0.0, \"rgb(2,4,25)\"], [0.06274509803921569, \"rgb(24,15,41)\"], [0.12549019607843137, \"rgb(47,23,57)\"], [0.18823529411764706, \"rgb(71,28,72)\"], [0.25098039215686274, \"rgb(97,30,82)\"], [0.3137254901960784, \"rgb(123,30,89)\"], [0.3764705882352941, \"rgb(150,27,91)\"], [0.4392156862745098, \"rgb(177,22,88)\"], [0.5019607843137255, \"rgb(203,26,79)\"], [0.5647058823529412, \"rgb(223,47,67)\"], [0.6274509803921569, \"rgb(236,76,61)\"], [0.6901960784313725, \"rgb(242,107,73)\"], [0.7529411764705882, \"rgb(244,135,95)\"], [0.8156862745098039, \"rgb(245,162,122)\"], [0.8784313725490196, \"rgb(246,188,153)\"], [0.9411764705882353, \"rgb(247,212,187)\"], [1.0, \"rgb(250,234,220)\"]], \"type\": \"heatmap\"}], \"heatmapgl\": [{\"colorbar\": {\"outlinewidth\": 0, \"tickcolor\": \"rgb(36,36,36)\", \"ticklen\": 8, \"ticks\": \"outside\", \"tickwidth\": 2}, \"colorscale\": [[0.0, \"rgb(2,4,25)\"], [0.06274509803921569, \"rgb(24,15,41)\"], [0.12549019607843137, \"rgb(47,23,57)\"], [0.18823529411764706, \"rgb(71,28,72)\"], [0.25098039215686274, \"rgb(97,30,82)\"], [0.3137254901960784, \"rgb(123,30,89)\"], [0.3764705882352941, \"rgb(150,27,91)\"], [0.4392156862745098, \"rgb(177,22,88)\"], [0.5019607843137255, \"rgb(203,26,79)\"], [0.5647058823529412, \"rgb(223,47,67)\"], [0.6274509803921569, \"rgb(236,76,61)\"], [0.6901960784313725, \"rgb(242,107,73)\"], [0.7529411764705882, \"rgb(244,135,95)\"], [0.8156862745098039, \"rgb(245,162,122)\"], [0.8784313725490196, \"rgb(246,188,153)\"], [0.9411764705882353, \"rgb(247,212,187)\"], [1.0, \"rgb(250,234,220)\"]], \"type\": \"heatmapgl\"}], \"histogram\": [{\"marker\": {\"colorbar\": {\"outlinewidth\": 0, \"tickcolor\": \"rgb(36,36,36)\", \"ticklen\": 8, \"ticks\": \"outside\", \"tickwidth\": 2}}, \"type\": \"histogram\"}], \"histogram2d\": [{\"colorbar\": {\"outlinewidth\": 0, \"tickcolor\": \"rgb(36,36,36)\", \"ticklen\": 8, \"ticks\": \"outside\", \"tickwidth\": 2}, \"colorscale\": [[0.0, \"rgb(2,4,25)\"], [0.06274509803921569, \"rgb(24,15,41)\"], [0.12549019607843137, \"rgb(47,23,57)\"], [0.18823529411764706, \"rgb(71,28,72)\"], [0.25098039215686274, \"rgb(97,30,82)\"], [0.3137254901960784, \"rgb(123,30,89)\"], [0.3764705882352941, \"rgb(150,27,91)\"], [0.4392156862745098, \"rgb(177,22,88)\"], [0.5019607843137255, \"rgb(203,26,79)\"], [0.5647058823529412, \"rgb(223,47,67)\"], [0.6274509803921569, \"rgb(236,76,61)\"], [0.6901960784313725, \"rgb(242,107,73)\"], [0.7529411764705882, \"rgb(244,135,95)\"], [0.8156862745098039, \"rgb(245,162,122)\"], [0.8784313725490196, \"rgb(246,188,153)\"], [0.9411764705882353, \"rgb(247,212,187)\"], [1.0, \"rgb(250,234,220)\"]], \"type\": \"histogram2d\"}], \"histogram2dcontour\": [{\"colorbar\": {\"outlinewidth\": 0, \"tickcolor\": \"rgb(36,36,36)\", \"ticklen\": 8, \"ticks\": \"outside\", \"tickwidth\": 2}, \"colorscale\": [[0.0, \"rgb(2,4,25)\"], [0.06274509803921569, \"rgb(24,15,41)\"], [0.12549019607843137, \"rgb(47,23,57)\"], [0.18823529411764706, \"rgb(71,28,72)\"], [0.25098039215686274, \"rgb(97,30,82)\"], [0.3137254901960784, \"rgb(123,30,89)\"], [0.3764705882352941, \"rgb(150,27,91)\"], [0.4392156862745098, \"rgb(177,22,88)\"], [0.5019607843137255, \"rgb(203,26,79)\"], [0.5647058823529412, \"rgb(223,47,67)\"], [0.6274509803921569, \"rgb(236,76,61)\"], [0.6901960784313725, \"rgb(242,107,73)\"], [0.7529411764705882, \"rgb(244,135,95)\"], [0.8156862745098039, \"rgb(245,162,122)\"], [0.8784313725490196, \"rgb(246,188,153)\"], [0.9411764705882353, \"rgb(247,212,187)\"], [1.0, \"rgb(250,234,220)\"]], \"type\": \"histogram2dcontour\"}], \"mesh3d\": [{\"colorbar\": {\"outlinewidth\": 0, \"tickcolor\": \"rgb(36,36,36)\", \"ticklen\": 8, \"ticks\": \"outside\", \"tickwidth\": 2}, \"type\": \"mesh3d\"}], \"parcoords\": [{\"line\": {\"colorbar\": {\"outlinewidth\": 0, \"tickcolor\": \"rgb(36,36,36)\", \"ticklen\": 8, \"ticks\": \"outside\", \"tickwidth\": 2}}, \"type\": \"parcoords\"}], \"pie\": [{\"automargin\": true, \"type\": \"pie\"}], \"scatter\": [{\"marker\": {\"colorbar\": {\"outlinewidth\": 0, \"tickcolor\": \"rgb(36,36,36)\", \"ticklen\": 8, \"ticks\": \"outside\", \"tickwidth\": 2}}, \"type\": \"scatter\"}], \"scatter3d\": [{\"line\": {\"colorbar\": {\"outlinewidth\": 0, \"tickcolor\": \"rgb(36,36,36)\", \"ticklen\": 8, \"ticks\": \"outside\", \"tickwidth\": 2}}, \"marker\": {\"colorbar\": {\"outlinewidth\": 0, \"tickcolor\": \"rgb(36,36,36)\", \"ticklen\": 8, \"ticks\": \"outside\", \"tickwidth\": 2}}, \"type\": \"scatter3d\"}], \"scattercarpet\": [{\"marker\": {\"colorbar\": {\"outlinewidth\": 0, \"tickcolor\": \"rgb(36,36,36)\", \"ticklen\": 8, \"ticks\": \"outside\", \"tickwidth\": 2}}, \"type\": \"scattercarpet\"}], \"scattergeo\": [{\"marker\": {\"colorbar\": {\"outlinewidth\": 0, \"tickcolor\": \"rgb(36,36,36)\", \"ticklen\": 8, \"ticks\": \"outside\", \"tickwidth\": 2}}, \"type\": \"scattergeo\"}], \"scattergl\": [{\"marker\": {\"colorbar\": {\"outlinewidth\": 0, \"tickcolor\": \"rgb(36,36,36)\", \"ticklen\": 8, \"ticks\": \"outside\", \"tickwidth\": 2}}, \"type\": \"scattergl\"}], \"scattermapbox\": [{\"marker\": {\"colorbar\": {\"outlinewidth\": 0, \"tickcolor\": \"rgb(36,36,36)\", \"ticklen\": 8, \"ticks\": \"outside\", \"tickwidth\": 2}}, \"type\": \"scattermapbox\"}], \"scatterpolar\": [{\"marker\": {\"colorbar\": {\"outlinewidth\": 0, \"tickcolor\": \"rgb(36,36,36)\", \"ticklen\": 8, \"ticks\": \"outside\", \"tickwidth\": 2}}, \"type\": \"scatterpolar\"}], \"scatterpolargl\": [{\"marker\": {\"colorbar\": {\"outlinewidth\": 0, \"tickcolor\": \"rgb(36,36,36)\", \"ticklen\": 8, \"ticks\": \"outside\", \"tickwidth\": 2}}, \"type\": \"scatterpolargl\"}], \"scatterternary\": [{\"marker\": {\"colorbar\": {\"outlinewidth\": 0, \"tickcolor\": \"rgb(36,36,36)\", \"ticklen\": 8, \"ticks\": \"outside\", \"tickwidth\": 2}}, \"type\": \"scatterternary\"}], \"surface\": [{\"colorbar\": {\"outlinewidth\": 0, \"tickcolor\": \"rgb(36,36,36)\", \"ticklen\": 8, \"ticks\": \"outside\", \"tickwidth\": 2}, \"colorscale\": [[0.0, \"rgb(2,4,25)\"], [0.06274509803921569, \"rgb(24,15,41)\"], [0.12549019607843137, \"rgb(47,23,57)\"], [0.18823529411764706, \"rgb(71,28,72)\"], [0.25098039215686274, \"rgb(97,30,82)\"], [0.3137254901960784, \"rgb(123,30,89)\"], [0.3764705882352941, \"rgb(150,27,91)\"], [0.4392156862745098, \"rgb(177,22,88)\"], [0.5019607843137255, \"rgb(203,26,79)\"], [0.5647058823529412, \"rgb(223,47,67)\"], [0.6274509803921569, \"rgb(236,76,61)\"], [0.6901960784313725, \"rgb(242,107,73)\"], [0.7529411764705882, \"rgb(244,135,95)\"], [0.8156862745098039, \"rgb(245,162,122)\"], [0.8784313725490196, \"rgb(246,188,153)\"], [0.9411764705882353, \"rgb(247,212,187)\"], [1.0, \"rgb(250,234,220)\"]], \"type\": \"surface\"}], \"table\": [{\"cells\": {\"fill\": {\"color\": \"rgb(231,231,240)\"}, \"line\": {\"color\": \"white\"}}, \"header\": {\"fill\": {\"color\": \"rgb(183,183,191)\"}, \"line\": {\"color\": \"white\"}}, \"type\": \"table\"}]}, \"layout\": {\"annotationdefaults\": {\"arrowcolor\": \"rgb(67,103,167)\"}, \"coloraxis\": {\"colorbar\": {\"outlinewidth\": 0, \"tickcolor\": \"rgb(36,36,36)\", \"ticklen\": 8, \"ticks\": \"outside\", \"tickwidth\": 2}}, \"colorscale\": {\"sequential\": [[0.0, \"rgb(2,4,25)\"], [0.06274509803921569, \"rgb(24,15,41)\"], [0.12549019607843137, \"rgb(47,23,57)\"], [0.18823529411764706, \"rgb(71,28,72)\"], [0.25098039215686274, \"rgb(97,30,82)\"], [0.3137254901960784, \"rgb(123,30,89)\"], [0.3764705882352941, \"rgb(150,27,91)\"], [0.4392156862745098, \"rgb(177,22,88)\"], [0.5019607843137255, \"rgb(203,26,79)\"], [0.5647058823529412, \"rgb(223,47,67)\"], [0.6274509803921569, \"rgb(236,76,61)\"], [0.6901960784313725, \"rgb(242,107,73)\"], [0.7529411764705882, \"rgb(244,135,95)\"], [0.8156862745098039, \"rgb(245,162,122)\"], [0.8784313725490196, \"rgb(246,188,153)\"], [0.9411764705882353, \"rgb(247,212,187)\"], [1.0, \"rgb(250,234,220)\"]], \"sequentialminus\": [[0.0, \"rgb(2,4,25)\"], [0.06274509803921569, \"rgb(24,15,41)\"], [0.12549019607843137, \"rgb(47,23,57)\"], [0.18823529411764706, \"rgb(71,28,72)\"], [0.25098039215686274, \"rgb(97,30,82)\"], [0.3137254901960784, \"rgb(123,30,89)\"], [0.3764705882352941, \"rgb(150,27,91)\"], [0.4392156862745098, \"rgb(177,22,88)\"], [0.5019607843137255, \"rgb(203,26,79)\"], [0.5647058823529412, \"rgb(223,47,67)\"], [0.6274509803921569, \"rgb(236,76,61)\"], [0.6901960784313725, \"rgb(242,107,73)\"], [0.7529411764705882, \"rgb(244,135,95)\"], [0.8156862745098039, \"rgb(245,162,122)\"], [0.8784313725490196, \"rgb(246,188,153)\"], [0.9411764705882353, \"rgb(247,212,187)\"], [1.0, \"rgb(250,234,220)\"]]}, \"colorway\": [\"rgb(76,114,176)\", \"rgb(221,132,82)\", \"rgb(85,168,104)\", \"rgb(196,78,82)\", \"rgb(129,114,179)\", \"rgb(147,120,96)\", \"rgb(218,139,195)\", \"rgb(140,140,140)\", \"rgb(204,185,116)\", \"rgb(100,181,205)\"], \"font\": {\"color\": \"rgb(36,36,36)\"}, \"geo\": {\"bgcolor\": \"white\", \"lakecolor\": \"white\", \"landcolor\": \"rgb(234,234,242)\", \"showlakes\": true, \"showland\": true, \"subunitcolor\": \"white\"}, \"hoverlabel\": {\"align\": \"left\"}, \"hovermode\": \"closest\", \"paper_bgcolor\": \"white\", \"plot_bgcolor\": \"rgb(234,234,242)\", \"polar\": {\"angularaxis\": {\"gridcolor\": \"white\", \"linecolor\": \"white\", \"showgrid\": true, \"ticks\": \"\"}, \"bgcolor\": \"rgb(234,234,242)\", \"radialaxis\": {\"gridcolor\": \"white\", \"linecolor\": \"white\", \"showgrid\": true, \"ticks\": \"\"}}, \"scene\": {\"xaxis\": {\"backgroundcolor\": \"rgb(234,234,242)\", \"gridcolor\": \"white\", \"gridwidth\": 2, \"linecolor\": \"white\", \"showbackground\": true, \"showgrid\": true, \"ticks\": \"\", \"zerolinecolor\": \"white\"}, \"yaxis\": {\"backgroundcolor\": \"rgb(234,234,242)\", \"gridcolor\": \"white\", \"gridwidth\": 2, \"linecolor\": \"white\", \"showbackground\": true, \"showgrid\": true, \"ticks\": \"\", \"zerolinecolor\": \"white\"}, \"zaxis\": {\"backgroundcolor\": \"rgb(234,234,242)\", \"gridcolor\": \"white\", \"gridwidth\": 2, \"linecolor\": \"white\", \"showbackground\": true, \"showgrid\": true, \"ticks\": \"\", \"zerolinecolor\": \"white\"}}, \"shapedefaults\": {\"fillcolor\": \"rgb(67,103,167)\", \"line\": {\"width\": 0}, \"opacity\": 0.5}, \"ternary\": {\"aaxis\": {\"gridcolor\": \"white\", \"linecolor\": \"white\", \"showgrid\": true, \"ticks\": \"\"}, \"baxis\": {\"gridcolor\": \"white\", \"linecolor\": \"white\", \"showgrid\": true, \"ticks\": \"\"}, \"bgcolor\": \"rgb(234,234,242)\", \"caxis\": {\"gridcolor\": \"white\", \"linecolor\": \"white\", \"showgrid\": true, \"ticks\": \"\"}}, \"xaxis\": {\"automargin\": true, \"gridcolor\": \"white\", \"linecolor\": \"white\", \"showgrid\": true, \"ticks\": \"\", \"title\": {\"standoff\": 15}, \"zerolinecolor\": \"white\"}, \"yaxis\": {\"automargin\": true, \"gridcolor\": \"white\", \"linecolor\": \"white\", \"showgrid\": true, \"ticks\": \"\", \"title\": {\"standoff\": 15}, \"zerolinecolor\": \"white\"}}}, \"title\": {\"text\": \"Reservation Status\"}},\n",
       "                        {\"responsive\": true}\n",
       "                    ).then(function(){\n",
       "                            \n",
       "var gd = document.getElementById('66e7080b-ff00-4b40-a184-6c90fa15538b');\n",
       "var x = new MutationObserver(function (mutations, observer) {{\n",
       "        var display = window.getComputedStyle(gd).display;\n",
       "        if (!display || display === 'none') {{\n",
       "            console.log([gd, 'removed!']);\n",
       "            Plotly.purge(gd);\n",
       "            observer.disconnect();\n",
       "        }}\n",
       "}});\n",
       "\n",
       "// Listen for the removal of the full notebook cells\n",
       "var notebookContainer = gd.closest('#notebook-container');\n",
       "if (notebookContainer) {{\n",
       "    x.observe(notebookContainer, {childList: true});\n",
       "}}\n",
       "\n",
       "// Listen for the clearing of the current output cell\n",
       "var outputEl = gd.closest('.output');\n",
       "if (outputEl) {{\n",
       "    x.observe(outputEl, {childList: true});\n",
       "}}\n",
       "\n",
       "                        })\n",
       "                };\n",
       "                \n",
       "            </script>\n",
       "        </div>\n",
       "</body>\n",
       "</html>"
      ]
     },
     "metadata": {
      "tags": []
     },
     "output_type": "display_data"
    }
   ],
   "source": [
    "# Pie plot\n",
    "count_reservation_status = pd.DataFrame(data.groupby(['reservation_status']).size())\n",
    "count_reservation_status.columns = ['Count']\n",
    "count_reservation_status = count_reservation_status.reset_index()\n",
    "\n",
    "fig = px.pie(count_reservation_status, values =\"Count\", names=\"reservation_status\", title=\"Reservation Status\", template=\"seaborn\")\n",
    "fig.update_traces(textposition=\"inside\", textinfo=\"value+percent+label\")\n",
    "fig.show()"
   ]
  },
  {
   "cell_type": "code",
   "execution_count": null,
   "metadata": {
    "id": "WQ2srJPoLvFu"
   },
   "outputs": [],
   "source": [
    "# Review paired relations using seaborn.\n",
    "data_num = data.select_dtypes(include=['float64','int64'])\n",
    "# sns.pairplot(data_num) "
   ]
  },
  {
   "cell_type": "code",
   "execution_count": null,
   "metadata": {
    "colab": {
     "base_uri": "https://localhost:8080/",
     "height": 642
    },
    "id": "0v0P5iYpLoo-",
    "outputId": "08da9d9f-a400-4531-a835-adb7bf7956c2"
   },
   "outputs": [
    {
     "data": {
      "text/plain": [
       "<matplotlib.axes._subplots.AxesSubplot at 0x7fa6203a82b0>"
      ]
     },
     "execution_count": 12,
     "metadata": {
      "tags": []
     },
     "output_type": "execute_result"
    },
    {
     "data": {
      "image/png": "[encoded data removed]",
      "text/plain": [
       "<Figure size 576x576 with 2 Axes>"
      ]
     },
     "metadata": {
      "needs_background": "light",
      "tags": []
     },
     "output_type": "display_data"
    }
   ],
   "source": [
    "#Pearson Correlation Heatmap\n",
    "plt.figure(figsize=(8,8))\n",
    "sns.heatmap(round(data_num.corr(),2),annot=True,cmap=\"RdYlGn\")"
   ]
  },
  {
   "cell_type": "code",
   "execution_count": null,
   "metadata": {
    "colab": {
     "base_uri": "https://localhost:8080/",
     "height": 641
    },
    "id": "zbuTANaEJtDi",
    "outputId": "48732905-a2ab-437e-ddab-b3522a97347d"
   },
   "outputs": [
    {
     "data": {
      "image/png": "[encoded data removed]",
      "text/plain": [
       "<Figure size 576x576 with 2 Axes>"
      ]
     },
     "metadata": {
      "needs_background": "light",
      "tags": []
     },
     "output_type": "display_data"
    }
   ],
   "source": [
    "#Spearman Correalation Heatmap\n",
    "plt.figure(figsize=(8,8))\n",
    "corr = data_num.corr(method = 'spearman')\n",
    "sns.heatmap(round(corr,2), annot = True,cmap=\"RdYlGn\")\n",
    "plt.show()"
   ]
  },
  {
   "cell_type": "code",
   "execution_count": null,
   "metadata": {
    "colab": {
     "base_uri": "https://localhost:8080/",
     "height": 689
    },
    "id": "Kd031DWRYvbQ",
    "outputId": "e2f5b2cb-118c-4d73-a677-9062c3b3f0b8"
   },
   "outputs": [
    {
     "data": {
      "text/html": [
       "<div>\n",
       "<style scoped>\n",
       "    .dataframe tbody tr th:only-of-type {\n",
       "        vertical-align: middle;\n",
       "    }\n",
       "\n",
       "    .dataframe tbody tr th {\n",
       "        vertical-align: top;\n",
       "    }\n",
       "\n",
       "    .dataframe thead th {\n",
       "        text-align: right;\n",
       "    }\n",
       "</style>\n",
       "<table border=\"1\" class=\"dataframe\">\n",
       "  <thead>\n",
       "    <tr style=\"text-align: right;\">\n",
       "      <th></th>\n",
       "      <th>is_canceled</th>\n",
       "      <th>lead_time</th>\n",
       "      <th>arrival_date_year</th>\n",
       "      <th>arrival_date_week_number</th>\n",
       "      <th>arrival_date_day_of_month</th>\n",
       "      <th>stays_in_weekend_nights</th>\n",
       "      <th>stays_in_week_nights</th>\n",
       "      <th>adults</th>\n",
       "      <th>children</th>\n",
       "      <th>babies</th>\n",
       "      <th>is_repeated_guest</th>\n",
       "      <th>previous_cancellations</th>\n",
       "      <th>previous_bookings_not_canceled</th>\n",
       "      <th>booking_changes</th>\n",
       "      <th>agent</th>\n",
       "      <th>company</th>\n",
       "      <th>days_in_waiting_list</th>\n",
       "      <th>adr</th>\n",
       "      <th>required_car_parking_spaces</th>\n",
       "      <th>total_of_special_requests</th>\n",
       "    </tr>\n",
       "  </thead>\n",
       "  <tbody>\n",
       "    <tr>\n",
       "      <th>is_canceled</th>\n",
       "      <td>1.000000</td>\n",
       "      <td>0.183730</td>\n",
       "      <td>0.087665</td>\n",
       "      <td>0.000864</td>\n",
       "      <td>0.005281</td>\n",
       "      <td>0.059599</td>\n",
       "      <td>0.082818</td>\n",
       "      <td>0.080295</td>\n",
       "      <td>0.067027</td>\n",
       "      <td>-0.020593</td>\n",
       "      <td>-0.090145</td>\n",
       "      <td>0.050965</td>\n",
       "      <td>-0.050553</td>\n",
       "      <td>-0.094050</td>\n",
       "      <td>-0.000841</td>\n",
       "      <td>-0.074127</td>\n",
       "      <td>0.004302</td>\n",
       "      <td>0.126675</td>\n",
       "      <td>-0.183704</td>\n",
       "      <td>-0.121794</td>\n",
       "    </tr>\n",
       "    <tr>\n",
       "      <th>lead_time</th>\n",
       "      <td>0.183730</td>\n",
       "      <td>1.000000</td>\n",
       "      <td>0.138786</td>\n",
       "      <td>0.100970</td>\n",
       "      <td>0.009865</td>\n",
       "      <td>0.233679</td>\n",
       "      <td>0.309916</td>\n",
       "      <td>0.137500</td>\n",
       "      <td>0.027704</td>\n",
       "      <td>-0.003954</td>\n",
       "      <td>-0.148009</td>\n",
       "      <td>0.005517</td>\n",
       "      <td>-0.076399</td>\n",
       "      <td>0.076764</td>\n",
       "      <td>0.079755</td>\n",
       "      <td>-0.075681</td>\n",
       "      <td>0.132163</td>\n",
       "      <td>0.019758</td>\n",
       "      <td>-0.085753</td>\n",
       "      <td>0.033038</td>\n",
       "    </tr>\n",
       "    <tr>\n",
       "      <th>arrival_date_year</th>\n",
       "      <td>0.087665</td>\n",
       "      <td>0.138786</td>\n",
       "      <td>1.000000</td>\n",
       "      <td>-0.514123</td>\n",
       "      <td>-0.010282</td>\n",
       "      <td>0.005000</td>\n",
       "      <td>0.003930</td>\n",
       "      <td>0.037455</td>\n",
       "      <td>0.040791</td>\n",
       "      <td>-0.023401</td>\n",
       "      <td>0.024048</td>\n",
       "      <td>-0.053973</td>\n",
       "      <td>0.028195</td>\n",
       "      <td>0.008786</td>\n",
       "      <td>-0.002741</td>\n",
       "      <td>0.023283</td>\n",
       "      <td>-0.028184</td>\n",
       "      <td>0.175988</td>\n",
       "      <td>-0.038615</td>\n",
       "      <td>0.064415</td>\n",
       "    </tr>\n",
       "    <tr>\n",
       "      <th>arrival_date_week_number</th>\n",
       "      <td>0.000864</td>\n",
       "      <td>0.100970</td>\n",
       "      <td>-0.514123</td>\n",
       "      <td>1.000000</td>\n",
       "      <td>0.093640</td>\n",
       "      <td>0.026096</td>\n",
       "      <td>0.027368</td>\n",
       "      <td>0.023778</td>\n",
       "      <td>0.013417</td>\n",
       "      <td>0.013848</td>\n",
       "      <td>-0.037271</td>\n",
       "      <td>0.006634</td>\n",
       "      <td>-0.020757</td>\n",
       "      <td>0.011464</td>\n",
       "      <td>0.019842</td>\n",
       "      <td>-0.022865</td>\n",
       "      <td>0.013883</td>\n",
       "      <td>0.097718</td>\n",
       "      <td>0.008637</td>\n",
       "      <td>0.046125</td>\n",
       "    </tr>\n",
       "    <tr>\n",
       "      <th>arrival_date_day_of_month</th>\n",
       "      <td>0.005281</td>\n",
       "      <td>0.009865</td>\n",
       "      <td>-0.010282</td>\n",
       "      <td>0.093640</td>\n",
       "      <td>1.000000</td>\n",
       "      <td>-0.017278</td>\n",
       "      <td>-0.027566</td>\n",
       "      <td>-0.001358</td>\n",
       "      <td>0.015846</td>\n",
       "      <td>-0.000752</td>\n",
       "      <td>-0.004401</td>\n",
       "      <td>-0.008687</td>\n",
       "      <td>0.000661</td>\n",
       "      <td>0.006498</td>\n",
       "      <td>0.006388</td>\n",
       "      <td>-0.000320</td>\n",
       "      <td>0.006585</td>\n",
       "      <td>0.022246</td>\n",
       "      <td>0.008679</td>\n",
       "      <td>-0.001587</td>\n",
       "    </tr>\n",
       "    <tr>\n",
       "      <th>stays_in_weekend_nights</th>\n",
       "      <td>0.059599</td>\n",
       "      <td>0.233679</td>\n",
       "      <td>0.005000</td>\n",
       "      <td>0.026096</td>\n",
       "      <td>-0.017278</td>\n",
       "      <td>1.000000</td>\n",
       "      <td>0.551159</td>\n",
       "      <td>0.086270</td>\n",
       "      <td>0.027842</td>\n",
       "      <td>0.013488</td>\n",
       "      <td>-0.107932</td>\n",
       "      <td>-0.020676</td>\n",
       "      <td>-0.054141</td>\n",
       "      <td>0.049066</td>\n",
       "      <td>0.159046</td>\n",
       "      <td>-0.087948</td>\n",
       "      <td>-0.032017</td>\n",
       "      <td>0.036015</td>\n",
       "      <td>-0.042651</td>\n",
       "      <td>0.030461</td>\n",
       "    </tr>\n",
       "    <tr>\n",
       "      <th>stays_in_week_nights</th>\n",
       "      <td>0.082818</td>\n",
       "      <td>0.309916</td>\n",
       "      <td>0.003930</td>\n",
       "      <td>0.027368</td>\n",
       "      <td>-0.027566</td>\n",
       "      <td>0.551159</td>\n",
       "      <td>1.000000</td>\n",
       "      <td>0.094405</td>\n",
       "      <td>0.030252</td>\n",
       "      <td>0.015891</td>\n",
       "      <td>-0.114665</td>\n",
       "      <td>-0.018904</td>\n",
       "      <td>-0.056928</td>\n",
       "      <td>0.084199</td>\n",
       "      <td>0.191660</td>\n",
       "      <td>-0.063167</td>\n",
       "      <td>0.001796</td>\n",
       "      <td>0.050935</td>\n",
       "      <td>-0.043987</td>\n",
       "      <td>0.035449</td>\n",
       "    </tr>\n",
       "    <tr>\n",
       "      <th>adults</th>\n",
       "      <td>0.080295</td>\n",
       "      <td>0.137500</td>\n",
       "      <td>0.037455</td>\n",
       "      <td>0.023778</td>\n",
       "      <td>-0.001358</td>\n",
       "      <td>0.086270</td>\n",
       "      <td>0.094405</td>\n",
       "      <td>1.000000</td>\n",
       "      <td>0.022419</td>\n",
       "      <td>0.016249</td>\n",
       "      <td>-0.173194</td>\n",
       "      <td>-0.042158</td>\n",
       "      <td>-0.117754</td>\n",
       "      <td>-0.049145</td>\n",
       "      <td>0.028301</td>\n",
       "      <td>-0.169591</td>\n",
       "      <td>-0.016125</td>\n",
       "      <td>0.245287</td>\n",
       "      <td>0.009261</td>\n",
       "      <td>0.110777</td>\n",
       "    </tr>\n",
       "    <tr>\n",
       "      <th>children</th>\n",
       "      <td>0.067027</td>\n",
       "      <td>0.027704</td>\n",
       "      <td>0.040791</td>\n",
       "      <td>0.013417</td>\n",
       "      <td>0.015846</td>\n",
       "      <td>0.027842</td>\n",
       "      <td>0.030252</td>\n",
       "      <td>0.022419</td>\n",
       "      <td>1.000000</td>\n",
       "      <td>0.017482</td>\n",
       "      <td>-0.045893</td>\n",
       "      <td>-0.019136</td>\n",
       "      <td>-0.028476</td>\n",
       "      <td>0.030910</td>\n",
       "      <td>0.041679</td>\n",
       "      <td>-0.050110</td>\n",
       "      <td>-0.020526</td>\n",
       "      <td>0.326293</td>\n",
       "      <td>0.037181</td>\n",
       "      <td>0.044391</td>\n",
       "    </tr>\n",
       "    <tr>\n",
       "      <th>babies</th>\n",
       "      <td>-0.020593</td>\n",
       "      <td>-0.003954</td>\n",
       "      <td>-0.023401</td>\n",
       "      <td>0.013848</td>\n",
       "      <td>-0.000752</td>\n",
       "      <td>0.013488</td>\n",
       "      <td>0.015891</td>\n",
       "      <td>0.016249</td>\n",
       "      <td>0.017482</td>\n",
       "      <td>1.000000</td>\n",
       "      <td>-0.013017</td>\n",
       "      <td>-0.005336</td>\n",
       "      <td>-0.008869</td>\n",
       "      <td>0.080791</td>\n",
       "      <td>0.029308</td>\n",
       "      <td>-0.011034</td>\n",
       "      <td>-0.006865</td>\n",
       "      <td>0.022694</td>\n",
       "      <td>0.030476</td>\n",
       "      <td>0.094475</td>\n",
       "    </tr>\n",
       "    <tr>\n",
       "      <th>is_repeated_guest</th>\n",
       "      <td>-0.090145</td>\n",
       "      <td>-0.148009</td>\n",
       "      <td>0.024048</td>\n",
       "      <td>-0.037271</td>\n",
       "      <td>-0.004401</td>\n",
       "      <td>-0.107932</td>\n",
       "      <td>-0.114665</td>\n",
       "      <td>-0.173194</td>\n",
       "      <td>-0.045893</td>\n",
       "      <td>-0.013017</td>\n",
       "      <td>1.000000</td>\n",
       "      <td>0.206934</td>\n",
       "      <td>0.447195</td>\n",
       "      <td>0.006079</td>\n",
       "      <td>-0.065429</td>\n",
       "      <td>0.201747</td>\n",
       "      <td>-0.012886</td>\n",
       "      <td>-0.154517</td>\n",
       "      <td>0.072757</td>\n",
       "      <td>-0.001343</td>\n",
       "    </tr>\n",
       "    <tr>\n",
       "      <th>previous_cancellations</th>\n",
       "      <td>0.050965</td>\n",
       "      <td>0.005517</td>\n",
       "      <td>-0.053973</td>\n",
       "      <td>0.006634</td>\n",
       "      <td>-0.008687</td>\n",
       "      <td>-0.020676</td>\n",
       "      <td>-0.018904</td>\n",
       "      <td>-0.042158</td>\n",
       "      <td>-0.019136</td>\n",
       "      <td>-0.005336</td>\n",
       "      <td>0.206934</td>\n",
       "      <td>1.000000</td>\n",
       "      <td>0.395889</td>\n",
       "      <td>-0.010491</td>\n",
       "      <td>-0.032487</td>\n",
       "      <td>0.028163</td>\n",
       "      <td>0.003725</td>\n",
       "      <td>-0.050226</td>\n",
       "      <td>-0.003474</td>\n",
       "      <td>0.001602</td>\n",
       "    </tr>\n",
       "    <tr>\n",
       "      <th>previous_bookings_not_canceled</th>\n",
       "      <td>-0.050553</td>\n",
       "      <td>-0.076399</td>\n",
       "      <td>0.028195</td>\n",
       "      <td>-0.020757</td>\n",
       "      <td>0.000661</td>\n",
       "      <td>-0.054141</td>\n",
       "      <td>-0.056928</td>\n",
       "      <td>-0.117754</td>\n",
       "      <td>-0.028476</td>\n",
       "      <td>-0.008869</td>\n",
       "      <td>0.447195</td>\n",
       "      <td>0.395889</td>\n",
       "      <td>1.000000</td>\n",
       "      <td>0.006028</td>\n",
       "      <td>-0.056165</td>\n",
       "      <td>0.124127</td>\n",
       "      <td>-0.006054</td>\n",
       "      <td>-0.082886</td>\n",
       "      <td>0.040426</td>\n",
       "      <td>0.027337</td>\n",
       "    </tr>\n",
       "    <tr>\n",
       "      <th>booking_changes</th>\n",
       "      <td>-0.094050</td>\n",
       "      <td>0.076764</td>\n",
       "      <td>0.008786</td>\n",
       "      <td>0.011464</td>\n",
       "      <td>0.006498</td>\n",
       "      <td>0.049066</td>\n",
       "      <td>0.084199</td>\n",
       "      <td>-0.049145</td>\n",
       "      <td>0.030910</td>\n",
       "      <td>0.080791</td>\n",
       "      <td>0.006079</td>\n",
       "      <td>-0.010491</td>\n",
       "      <td>0.006028</td>\n",
       "      <td>1.000000</td>\n",
       "      <td>0.023037</td>\n",
       "      <td>0.088857</td>\n",
       "      <td>0.024214</td>\n",
       "      <td>0.001818</td>\n",
       "      <td>0.048886</td>\n",
       "      <td>0.015502</td>\n",
       "    </tr>\n",
       "    <tr>\n",
       "      <th>agent</th>\n",
       "      <td>-0.000841</td>\n",
       "      <td>0.079755</td>\n",
       "      <td>-0.002741</td>\n",
       "      <td>0.019842</td>\n",
       "      <td>0.006388</td>\n",
       "      <td>0.159046</td>\n",
       "      <td>0.191660</td>\n",
       "      <td>0.028301</td>\n",
       "      <td>0.041679</td>\n",
       "      <td>0.029308</td>\n",
       "      <td>-0.065429</td>\n",
       "      <td>-0.032487</td>\n",
       "      <td>-0.056165</td>\n",
       "      <td>0.023037</td>\n",
       "      <td>1.000000</td>\n",
       "      <td>-0.126378</td>\n",
       "      <td>-0.015362</td>\n",
       "      <td>0.007561</td>\n",
       "      <td>0.123766</td>\n",
       "      <td>0.032472</td>\n",
       "    </tr>\n",
       "    <tr>\n",
       "      <th>company</th>\n",
       "      <td>-0.074127</td>\n",
       "      <td>-0.075681</td>\n",
       "      <td>0.023283</td>\n",
       "      <td>-0.022865</td>\n",
       "      <td>-0.000320</td>\n",
       "      <td>-0.087948</td>\n",
       "      <td>-0.063167</td>\n",
       "      <td>-0.169591</td>\n",
       "      <td>-0.050110</td>\n",
       "      <td>-0.011034</td>\n",
       "      <td>0.201747</td>\n",
       "      <td>0.028163</td>\n",
       "      <td>0.124127</td>\n",
       "      <td>0.088857</td>\n",
       "      <td>-0.126378</td>\n",
       "      <td>1.000000</td>\n",
       "      <td>-0.007330</td>\n",
       "      <td>-0.134839</td>\n",
       "      <td>0.038899</td>\n",
       "      <td>-0.105394</td>\n",
       "    </tr>\n",
       "    <tr>\n",
       "      <th>days_in_waiting_list</th>\n",
       "      <td>0.004302</td>\n",
       "      <td>0.132163</td>\n",
       "      <td>-0.028184</td>\n",
       "      <td>0.013883</td>\n",
       "      <td>0.006585</td>\n",
       "      <td>-0.032017</td>\n",
       "      <td>0.001796</td>\n",
       "      <td>-0.016125</td>\n",
       "      <td>-0.020526</td>\n",
       "      <td>-0.006865</td>\n",
       "      <td>-0.012886</td>\n",
       "      <td>0.003725</td>\n",
       "      <td>-0.006054</td>\n",
       "      <td>0.024214</td>\n",
       "      <td>-0.015362</td>\n",
       "      <td>-0.007330</td>\n",
       "      <td>1.000000</td>\n",
       "      <td>-0.033447</td>\n",
       "      <td>-0.015967</td>\n",
       "      <td>-0.049762</td>\n",
       "    </tr>\n",
       "    <tr>\n",
       "      <th>adr</th>\n",
       "      <td>0.126675</td>\n",
       "      <td>0.019758</td>\n",
       "      <td>0.175988</td>\n",
       "      <td>0.097718</td>\n",
       "      <td>0.022246</td>\n",
       "      <td>0.036015</td>\n",
       "      <td>0.050935</td>\n",
       "      <td>0.245287</td>\n",
       "      <td>0.326293</td>\n",
       "      <td>0.022694</td>\n",
       "      <td>-0.154517</td>\n",
       "      <td>-0.050226</td>\n",
       "      <td>-0.082886</td>\n",
       "      <td>0.001818</td>\n",
       "      <td>0.007561</td>\n",
       "      <td>-0.134839</td>\n",
       "      <td>-0.033447</td>\n",
       "      <td>1.000000</td>\n",
       "      <td>0.040494</td>\n",
       "      <td>0.136300</td>\n",
       "    </tr>\n",
       "    <tr>\n",
       "      <th>required_car_parking_spaces</th>\n",
       "      <td>-0.183704</td>\n",
       "      <td>-0.085753</td>\n",
       "      <td>-0.038615</td>\n",
       "      <td>0.008637</td>\n",
       "      <td>0.008679</td>\n",
       "      <td>-0.042651</td>\n",
       "      <td>-0.043987</td>\n",
       "      <td>0.009261</td>\n",
       "      <td>0.037181</td>\n",
       "      <td>0.030476</td>\n",
       "      <td>0.072757</td>\n",
       "      <td>-0.003474</td>\n",
       "      <td>0.040426</td>\n",
       "      <td>0.048886</td>\n",
       "      <td>0.123766</td>\n",
       "      <td>0.038899</td>\n",
       "      <td>-0.015967</td>\n",
       "      <td>0.040494</td>\n",
       "      <td>1.000000</td>\n",
       "      <td>0.048595</td>\n",
       "    </tr>\n",
       "    <tr>\n",
       "      <th>total_of_special_requests</th>\n",
       "      <td>-0.121794</td>\n",
       "      <td>0.033038</td>\n",
       "      <td>0.064415</td>\n",
       "      <td>0.046125</td>\n",
       "      <td>-0.001587</td>\n",
       "      <td>0.030461</td>\n",
       "      <td>0.035449</td>\n",
       "      <td>0.110777</td>\n",
       "      <td>0.044391</td>\n",
       "      <td>0.094475</td>\n",
       "      <td>-0.001343</td>\n",
       "      <td>0.001602</td>\n",
       "      <td>0.027337</td>\n",
       "      <td>0.015502</td>\n",
       "      <td>0.032472</td>\n",
       "      <td>-0.105394</td>\n",
       "      <td>-0.049762</td>\n",
       "      <td>0.136300</td>\n",
       "      <td>0.048595</td>\n",
       "      <td>1.000000</td>\n",
       "    </tr>\n",
       "  </tbody>\n",
       "</table>\n",
       "</div>"
      ],
      "text/plain": [
       "                                is_canceled  ...  total_of_special_requests\n",
       "is_canceled                        1.000000  ...                  -0.121794\n",
       "lead_time                          0.183730  ...                   0.033038\n",
       "arrival_date_year                  0.087665  ...                   0.064415\n",
       "arrival_date_week_number           0.000864  ...                   0.046125\n",
       "arrival_date_day_of_month          0.005281  ...                  -0.001587\n",
       "stays_in_weekend_nights            0.059599  ...                   0.030461\n",
       "stays_in_week_nights               0.082818  ...                   0.035449\n",
       "adults                             0.080295  ...                   0.110777\n",
       "children                           0.067027  ...                   0.044391\n",
       "babies                            -0.020593  ...                   0.094475\n",
       "is_repeated_guest                 -0.090145  ...                  -0.001343\n",
       "previous_cancellations             0.050965  ...                   0.001602\n",
       "previous_bookings_not_canceled    -0.050553  ...                   0.027337\n",
       "booking_changes                   -0.094050  ...                   0.015502\n",
       "agent                             -0.000841  ...                   0.032472\n",
       "company                           -0.074127  ...                  -0.105394\n",
       "days_in_waiting_list               0.004302  ...                  -0.049762\n",
       "adr                                0.126675  ...                   0.136300\n",
       "required_car_parking_spaces       -0.183704  ...                   0.048595\n",
       "total_of_special_requests         -0.121794  ...                   1.000000\n",
       "\n",
       "[20 rows x 20 columns]"
      ]
     },
     "execution_count": 104,
     "metadata": {
      "tags": []
     },
     "output_type": "execute_result"
    }
   ],
   "source": [
    "data.corr()"
   ]
  },
  {
   "cell_type": "markdown",
   "metadata": {
    "id": "JBX7bg3uIdLs"
   },
   "source": [
    "# Classification (is_canceled)\n",
    "\n"
   ]
  },
  {
   "cell_type": "code",
   "execution_count": null,
   "metadata": {
    "colab": {
     "base_uri": "https://localhost:8080/",
     "height": 221
    },
    "id": "yVeWcgNfIs0Q",
    "outputId": "1cbda8c8-ea7c-4d32-d539-fb2b16ceecd2"
   },
   "outputs": [
    {
     "data": {
      "text/plain": [
       "Index(['hotel', 'is_canceled', 'lead_time', 'arrival_date_year',\n",
       "       'arrival_date_month', 'arrival_date_week_number',\n",
       "       'arrival_date_day_of_month', 'stays_in_weekend_nights',\n",
       "       'stays_in_week_nights', 'adults', 'children', 'babies', 'meal',\n",
       "       'country', 'market_segment', 'distribution_channel',\n",
       "       'is_repeated_guest', 'previous_cancellations',\n",
       "       'previous_bookings_not_canceled', 'reserved_room_type',\n",
       "       'assigned_room_type', 'booking_changes', 'deposit_type', 'agent',\n",
       "       'company', 'days_in_waiting_list', 'customer_type', 'adr',\n",
       "       'required_car_parking_spaces', 'total_of_special_requests',\n",
       "       'reservation_status', 'reservation_status_date'],\n",
       "      dtype='object')"
      ]
     },
     "execution_count": 88,
     "metadata": {
      "tags": []
     },
     "output_type": "execute_result"
    }
   ],
   "source": [
    "data.columns"
   ]
  },
  {
   "cell_type": "code",
   "execution_count": 6,
   "metadata": {
    "id": "rCYnhzZkKPBt"
   },
   "outputs": [],
   "source": [
    "numerical_features = data.select_dtypes(include=['float64','int64']).columns.tolist()\n",
    "numerical_features.remove('is_canceled')\n",
    "categorical_features = data.select_dtypes(exclude=['float64','int64']).columns.tolist()\n",
    "categorical_features.remove('reservation_status')\n",
    "categorical_features.remove('reservation_status_date')"
   ]
  },
  {
   "cell_type": "code",
   "execution_count": null,
   "metadata": {
    "colab": {
     "base_uri": "https://localhost:8080/"
    },
    "id": "_rt1pDrYdXEH",
    "outputId": "437cf179-60cb-4d76-e8cf-56443a86e485"
   },
   "outputs": [
    {
     "data": {
      "text/plain": [
       "['lead_time',\n",
       " 'arrival_date_year',\n",
       " 'arrival_date_week_number',\n",
       " 'arrival_date_day_of_month',\n",
       " 'stays_in_weekend_nights',\n",
       " 'stays_in_week_nights',\n",
       " 'adults',\n",
       " 'children',\n",
       " 'babies',\n",
       " 'is_repeated_guest',\n",
       " 'previous_cancellations',\n",
       " 'previous_bookings_not_canceled',\n",
       " 'booking_changes',\n",
       " 'agent',\n",
       " 'company',\n",
       " 'days_in_waiting_list',\n",
       " 'adr',\n",
       " 'required_car_parking_spaces',\n",
       " 'total_of_special_requests']"
      ]
     },
     "execution_count": 21,
     "metadata": {
      "tags": []
     },
     "output_type": "execute_result"
    }
   ],
   "source": [
    "numerical_features"
   ]
  },
  {
   "cell_type": "code",
   "execution_count": null,
   "metadata": {
    "colab": {
     "base_uri": "https://localhost:8080/"
    },
    "id": "nHZejz0b_ZOh",
    "outputId": "d63f3864-4041-4c03-a453-73ba509f1dd9"
   },
   "outputs": [
    {
     "data": {
      "text/plain": [
       "19"
      ]
     },
     "execution_count": 23,
     "metadata": {
      "tags": []
     },
     "output_type": "execute_result"
    }
   ],
   "source": [
    "len(numerical_features)"
   ]
  },
  {
   "cell_type": "code",
   "execution_count": null,
   "metadata": {
    "colab": {
     "base_uri": "https://localhost:8080/"
    },
    "id": "ff9ClsdTRaE0",
    "outputId": "ce0b0e73-6ebb-44e0-ab64-8c18101e2890"
   },
   "outputs": [
    {
     "data": {
      "text/plain": [
       "10"
      ]
     },
     "execution_count": 24,
     "metadata": {
      "tags": []
     },
     "output_type": "execute_result"
    }
   ],
   "source": [
    "len(categorical_features)"
   ]
  },
  {
   "cell_type": "code",
   "execution_count": 7,
   "metadata": {
    "id": "r74Rg6SYRbHr"
   },
   "outputs": [],
   "source": [
    "# features = numerical_features + categorical_features\n",
    "X = data.drop(columns = [\"is_canceled\"])[numerical_features + categorical_features]\n",
    "y = data[\"is_canceled\"]"
   ]
  },
  {
   "cell_type": "code",
   "execution_count": null,
   "metadata": {
    "colab": {
     "base_uri": "https://localhost:8080/",
     "height": 309
    },
    "id": "CC7U5xamwKY3",
    "outputId": "afccd039-d545-4282-c449-8b36d4e9bf87"
   },
   "outputs": [
    {
     "data": {
      "text/html": [
       "<div>\n",
       "<style scoped>\n",
       "    .dataframe tbody tr th:only-of-type {\n",
       "        vertical-align: middle;\n",
       "    }\n",
       "\n",
       "    .dataframe tbody tr th {\n",
       "        vertical-align: top;\n",
       "    }\n",
       "\n",
       "    .dataframe thead th {\n",
       "        text-align: right;\n",
       "    }\n",
       "</style>\n",
       "<table border=\"1\" class=\"dataframe\">\n",
       "  <thead>\n",
       "    <tr style=\"text-align: right;\">\n",
       "      <th></th>\n",
       "      <th>lead_time</th>\n",
       "      <th>arrival_date_year</th>\n",
       "      <th>arrival_date_week_number</th>\n",
       "      <th>arrival_date_day_of_month</th>\n",
       "      <th>stays_in_weekend_nights</th>\n",
       "      <th>stays_in_week_nights</th>\n",
       "      <th>adults</th>\n",
       "      <th>children</th>\n",
       "      <th>babies</th>\n",
       "      <th>is_repeated_guest</th>\n",
       "      <th>previous_cancellations</th>\n",
       "      <th>previous_bookings_not_canceled</th>\n",
       "      <th>booking_changes</th>\n",
       "      <th>agent</th>\n",
       "      <th>company</th>\n",
       "      <th>days_in_waiting_list</th>\n",
       "      <th>adr</th>\n",
       "      <th>required_car_parking_spaces</th>\n",
       "      <th>total_of_special_requests</th>\n",
       "      <th>hotel</th>\n",
       "      <th>arrival_date_month</th>\n",
       "      <th>meal</th>\n",
       "      <th>country</th>\n",
       "      <th>market_segment</th>\n",
       "      <th>distribution_channel</th>\n",
       "      <th>reserved_room_type</th>\n",
       "      <th>assigned_room_type</th>\n",
       "      <th>deposit_type</th>\n",
       "      <th>customer_type</th>\n",
       "    </tr>\n",
       "  </thead>\n",
       "  <tbody>\n",
       "    <tr>\n",
       "      <th>21965</th>\n",
       "      <td>2</td>\n",
       "      <td>2017</td>\n",
       "      <td>4</td>\n",
       "      <td>25</td>\n",
       "      <td>0</td>\n",
       "      <td>1</td>\n",
       "      <td>1</td>\n",
       "      <td>0.0</td>\n",
       "      <td>0</td>\n",
       "      <td>1</td>\n",
       "      <td>0</td>\n",
       "      <td>4</td>\n",
       "      <td>0</td>\n",
       "      <td>0.0</td>\n",
       "      <td>86.0</td>\n",
       "      <td>0</td>\n",
       "      <td>35.00</td>\n",
       "      <td>0</td>\n",
       "      <td>0</td>\n",
       "      <td>Resort Hotel</td>\n",
       "      <td>January</td>\n",
       "      <td>BB</td>\n",
       "      <td>PRT</td>\n",
       "      <td>Corporate</td>\n",
       "      <td>TA/TO</td>\n",
       "      <td>A</td>\n",
       "      <td>D</td>\n",
       "      <td>No Deposit</td>\n",
       "      <td>Transient</td>\n",
       "    </tr>\n",
       "    <tr>\n",
       "      <th>31678</th>\n",
       "      <td>0</td>\n",
       "      <td>2017</td>\n",
       "      <td>1</td>\n",
       "      <td>3</td>\n",
       "      <td>0</td>\n",
       "      <td>1</td>\n",
       "      <td>1</td>\n",
       "      <td>0.0</td>\n",
       "      <td>0</td>\n",
       "      <td>0</td>\n",
       "      <td>0</td>\n",
       "      <td>0</td>\n",
       "      <td>0</td>\n",
       "      <td>240.0</td>\n",
       "      <td>0.0</td>\n",
       "      <td>0</td>\n",
       "      <td>68.00</td>\n",
       "      <td>1</td>\n",
       "      <td>0</td>\n",
       "      <td>Resort Hotel</td>\n",
       "      <td>January</td>\n",
       "      <td>BB</td>\n",
       "      <td>PRT</td>\n",
       "      <td>Online TA</td>\n",
       "      <td>TA/TO</td>\n",
       "      <td>E</td>\n",
       "      <td>E</td>\n",
       "      <td>No Deposit</td>\n",
       "      <td>Transient</td>\n",
       "    </tr>\n",
       "    <tr>\n",
       "      <th>104097</th>\n",
       "      <td>306</td>\n",
       "      <td>2017</td>\n",
       "      <td>1</td>\n",
       "      <td>2</td>\n",
       "      <td>1</td>\n",
       "      <td>3</td>\n",
       "      <td>2</td>\n",
       "      <td>0.0</td>\n",
       "      <td>0</td>\n",
       "      <td>0</td>\n",
       "      <td>0</td>\n",
       "      <td>0</td>\n",
       "      <td>1</td>\n",
       "      <td>9.0</td>\n",
       "      <td>0.0</td>\n",
       "      <td>0</td>\n",
       "      <td>67.15</td>\n",
       "      <td>0</td>\n",
       "      <td>0</td>\n",
       "      <td>City Hotel</td>\n",
       "      <td>January</td>\n",
       "      <td>SC</td>\n",
       "      <td>ITA</td>\n",
       "      <td>Online TA</td>\n",
       "      <td>TA/TO</td>\n",
       "      <td>A</td>\n",
       "      <td>A</td>\n",
       "      <td>No Deposit</td>\n",
       "      <td>Transient-Party</td>\n",
       "    </tr>\n",
       "    <tr>\n",
       "      <th>104098</th>\n",
       "      <td>9</td>\n",
       "      <td>2017</td>\n",
       "      <td>1</td>\n",
       "      <td>2</td>\n",
       "      <td>1</td>\n",
       "      <td>3</td>\n",
       "      <td>2</td>\n",
       "      <td>1.0</td>\n",
       "      <td>0</td>\n",
       "      <td>0</td>\n",
       "      <td>0</td>\n",
       "      <td>0</td>\n",
       "      <td>0</td>\n",
       "      <td>9.0</td>\n",
       "      <td>0.0</td>\n",
       "      <td>0</td>\n",
       "      <td>116.15</td>\n",
       "      <td>0</td>\n",
       "      <td>0</td>\n",
       "      <td>City Hotel</td>\n",
       "      <td>January</td>\n",
       "      <td>BB</td>\n",
       "      <td>ITA</td>\n",
       "      <td>Online TA</td>\n",
       "      <td>TA/TO</td>\n",
       "      <td>A</td>\n",
       "      <td>A</td>\n",
       "      <td>No Deposit</td>\n",
       "      <td>Transient</td>\n",
       "    </tr>\n",
       "    <tr>\n",
       "      <th>31675</th>\n",
       "      <td>1</td>\n",
       "      <td>2017</td>\n",
       "      <td>1</td>\n",
       "      <td>3</td>\n",
       "      <td>0</td>\n",
       "      <td>1</td>\n",
       "      <td>2</td>\n",
       "      <td>0.0</td>\n",
       "      <td>0</td>\n",
       "      <td>0</td>\n",
       "      <td>0</td>\n",
       "      <td>0</td>\n",
       "      <td>0</td>\n",
       "      <td>240.0</td>\n",
       "      <td>0.0</td>\n",
       "      <td>0</td>\n",
       "      <td>48.00</td>\n",
       "      <td>0</td>\n",
       "      <td>1</td>\n",
       "      <td>Resort Hotel</td>\n",
       "      <td>January</td>\n",
       "      <td>BB</td>\n",
       "      <td>ESP</td>\n",
       "      <td>Online TA</td>\n",
       "      <td>TA/TO</td>\n",
       "      <td>A</td>\n",
       "      <td>D</td>\n",
       "      <td>No Deposit</td>\n",
       "      <td>Transient</td>\n",
       "    </tr>\n",
       "  </tbody>\n",
       "</table>\n",
       "</div>"
      ],
      "text/plain": [
       "        lead_time  arrival_date_year  ...  deposit_type    customer_type\n",
       "21965           2               2017  ...    No Deposit        Transient\n",
       "31678           0               2017  ...    No Deposit        Transient\n",
       "104097        306               2017  ...    No Deposit  Transient-Party\n",
       "104098          9               2017  ...    No Deposit        Transient\n",
       "31675           1               2017  ...    No Deposit        Transient\n",
       "\n",
       "[5 rows x 29 columns]"
      ]
     },
     "execution_count": 17,
     "metadata": {
      "tags": []
     },
     "output_type": "execute_result"
    }
   ],
   "source": [
    "X.head()"
   ]
  },
  {
   "cell_type": "code",
   "execution_count": 10,
   "metadata": {
    "id": "7Pvj0SOefN5l"
   },
   "outputs": [],
   "source": [
    "# Create numerical_transformer and categorical_transformer\n",
    "numerical_transformer = Pipeline(steps=[('imputer', SimpleImputer(strategy='median')),('scaler', StandardScaler())])\n",
    "categorical_transformer = Pipeline(steps=[('imputer', SimpleImputer(strategy='constant', fill_value='missing')),('onehot', OneHotEncoder(handle_unknown='ignore'))])\n",
    "\n",
    "# Use ColumnTransformer by selecting column by names\n",
    "preprocessor = ColumnTransformer(transformers=[('num', numerical_transformer, numerical_features),('cat', categorical_transformer, categorical_features)])\n",
    "\n",
    "# train, test split\n",
    "# 80% train\n",
    "# 20% test\n",
    "X_train, X_test, y_train, y_test = train_test_split(X, y, test_size = 0.2,random_state=0)"
   ]
  },
  {
   "cell_type": "markdown",
   "metadata": {
    "id": "fwVIWNx2fRff"
   },
   "source": [
    "# Decision Tree\n"
   ]
  },
  {
   "cell_type": "code",
   "execution_count": 9,
   "metadata": {
    "colab": {
     "base_uri": "https://localhost:8080/",
     "height": 528,
     "referenced_widgets": [
      "07da97ee47b24178a94a61b0908dadff",
      "4e0ebee8cebe4bfebbc973906052996f",
      "1ef370cb5dac45f2bddbeb4a08366d8f",
      "457cc46fa1de45699b9f56cd81993380",
      "1cbcdfd5d48043c1a3c7d61b5324bcad",
      "412aa5a6658e4024963f89896ac7c6b5",
      "cb73389f26304abf8d6ea91329f21bc7",
      "2d92fa60623042b5af32c07f982da1eb"
     ]
    },
    "id": "cmHH1Y_JkC9u",
    "outputId": "fc43d5b8-58f9-48e6-fe61-c860ac1e626b"
   },
   "outputs": [],
   "source": [
    "# %%time\n",
    "clf = Pipeline(steps=[('preprocessor', preprocessor),('classifier', DecisionTreeClassifier())])\n",
    "\n",
    "model_name = \"Decision Tree\"\n",
    "check_params = {'classifier__criterion':['gini', 'entropy'], \n",
    "                'classifier__splitter': ['best', 'random'],\n",
    "                'classifier__ccp_alpha': [0.0001, 0.001, 0.005, 0.010, 0.015, 0.020, 0.025],\n",
    "               'classifier__max_depth': np.arange(3, 15)}\n",
    "# clf.fit(X_train, y_train)\n",
    "# print(model_name + \" Train score: \" + str(clf.score(X_train, y_train)))\n",
    "# print(model_name + \" Test score: \" + str(clf.score(X_test, y_test)))\n",
    "cv_best_score = 0\n",
    "cv_best_params = None \n",
    "print(model_name + \" GridSearch Starts\")\n",
    "for cv in tqdm(range(3, 10)):\n",
    "    create_grid = GridSearchCV(clf, param_grid=check_params, cv=cv, n_jobs=1)\n",
    "    create_grid.fit(X_train, y_train)\n",
    "    cv_score = create_grid.score(X_test, y_test)\n",
    "    cv_params = create_grid.best_params_\n",
    "    print(\"Score for %d fold CV := %5.4f\" %(cv, cv_score))\n",
    "    print(\"!!!! Best fit parameters from GridSearchCV !!!!\")\n",
    "    print(cv_params)\n",
    "    if(cv_score > cv_best_score):\n",
    "        cv_best_score = cv_score\n",
    "        cv_best_params = cv_params"
   ]
  },
  {
   "cell_type": "code",
   "execution_count": null,
   "metadata": {
    "colab": {
     "base_uri": "https://localhost:8080/"
    },
    "id": "7KHQrrKejGvV",
    "outputId": "92e1159a-2a5e-4337-fbb8-e8523494c221"
   },
   "outputs": [
    {
     "data": {
      "text/plain": [
       "{'classifier__ccp_alpha': 0.001,\n",
       " 'classifier__criterion': 'gini',\n",
       " 'classifier__max_depth': 12,\n",
       " 'classifier__splitter': 'best'}"
      ]
     },
     "execution_count": 33,
     "metadata": {
      "tags": []
     },
     "output_type": "execute_result"
    }
   ],
   "source": [
    "cv_best_params"
   ]
  },
  {
   "cell_type": "code",
   "execution_count": null,
   "metadata": {
    "colab": {
     "base_uri": "https://localhost:8080/"
    },
    "id": "AbOPlkofiy6v",
    "outputId": "9081b7e2-85ab-4852-8ec6-9dceb1e5d7fa"
   },
   "outputs": [
    {
     "data": {
      "text/plain": [
       "0.001"
      ]
     },
     "execution_count": 31,
     "metadata": {
      "tags": []
     },
     "output_type": "execute_result"
    }
   ],
   "source": [
    "cv_best_params['classifier__ccp_alpha']"
   ]
  },
  {
   "cell_type": "code",
   "execution_count": 10,
   "metadata": {
    "colab": {
     "base_uri": "https://localhost:8080/"
    },
    "id": "Kn3WHfi4f6Qu",
    "outputId": "6dea3176-bf4d-4f50-c4a9-ec89b94976e4"
   },
   "outputs": [
    {
     "name": "stdout",
     "output_type": "stream",
     "text": [
      "Decision Tree training data confusion matrix\n",
      "       0     1\n",
      "0  46918  3373\n",
      "1   9676  9585\n",
      "Decision Tree testing data confusion matrix\n",
      "       0     1\n",
      "0  11824   838\n",
      "1   2382  2344\n",
      "Decision Tree training accuracy rate: 0.8123849781458478\n",
      "Decision Tree test accuracy rate: 0.8148148148148148\n",
      "Decision Tree training error rate: 0.18761502185415224\n",
      "Decision Tree test error rate: 0.18518518518518523\n",
      "Decision Tree training matthews_corrcoef Score: 0.49484840798385155\n",
      "Decision Tree test matthews_corrcoef score: 0.4945108372377544\n",
      "Train Classification Report\n",
      "              precision    recall  f1-score   support\n",
      "\n",
      "           0       0.83      0.93      0.88     50291\n",
      "           1       0.74      0.50      0.59     19261\n",
      "\n",
      "    accuracy                           0.81     69552\n",
      "   macro avg       0.78      0.72      0.74     69552\n",
      "weighted avg       0.80      0.81      0.80     69552\n",
      "\n",
      "Test Classification Report\n",
      "              precision    recall  f1-score   support\n",
      "\n",
      "           0       0.83      0.93      0.88     12662\n",
      "           1       0.74      0.50      0.59      4726\n",
      "\n",
      "    accuracy                           0.81     17388\n",
      "   macro avg       0.78      0.71      0.74     17388\n",
      "weighted avg       0.81      0.81      0.80     17388\n",
      "\n",
      "CPU times: user 2.76 s, sys: 107 ms, total: 2.86 s\n",
      "Wall time: 2.87 s\n"
     ]
    }
   ],
   "source": [
    "%%time\n",
    "Decision_tree_best_model = DecisionTreeClassifier(criterion = 'gini', max_depth = 12, splitter = 'best', ccp_alpha = 0.001)\n",
    "\n",
    "# Decision_tree_best_model = DecisionTreeClassifier(criterion = cv_best_params['classifier__criterion'], max_depth = cv_best_params['classifier__max_depth'], splitter = cv_best_params['classifier__splitter'], ccp_alpha = cv_best_params['classifier__ccp_alpha'])\n",
    "clf_best_decision_tree = Pipeline(steps=[('preprocessor', preprocessor),('classifier', Decision_tree_best_model)])\n",
    "clf_best_decision_tree.fit(X_train, y_train)\n",
    "y_pred_train = clf_best_decision_tree.predict(X_train)\n",
    "y_pred_test = clf_best_decision_tree.predict(X_test)\n",
    "conf_matrix_test = pd.DataFrame(confusion_matrix(y_test, y_pred_test))\n",
    "conf_matrix_train = pd.DataFrame(confusion_matrix(y_train, y_pred_train))\n",
    "print('Decision Tree training data confusion matrix')\n",
    "print(conf_matrix_train)\n",
    "print('Decision Tree testing data confusion matrix')\n",
    "print(conf_matrix_test)\n",
    "\n",
    "print('Decision Tree training accuracy rate: {}'.format(accuracy_score(y_train, y_pred_train)))\n",
    "print('Decision Tree test accuracy rate: {}'.format(accuracy_score(y_test, y_pred_test)))\n",
    "\n",
    "print('Decision Tree training error rate: {}'.format(1 - accuracy_score(y_train, y_pred_train)))\n",
    "print('Decision Tree test error rate: {}'.format(1 - accuracy_score(y_test, y_pred_test)))\n",
    "\n",
    "print('Decision Tree training matthews_corrcoef Score: {}'.format(matthews_corrcoef(y_train, y_pred_train)))\n",
    "print('Decision Tree test matthews_corrcoef score: {}'.format(matthews_corrcoef(y_test, y_pred_test)))\n",
    "\n",
    "target_names = ['0', '1']\n",
    "print(\"Train Classification Report\")\n",
    "print(classification_report(y_train, y_pred_train, target_names=target_names))\n",
    "print(\"Test Classification Report\")\n",
    "print(classification_report(y_test, y_pred_test, target_names=target_names))"
   ]
  },
  {
   "cell_type": "code",
   "execution_count": 8,
   "metadata": {
    "id": "3a8WRsibwgAR"
   },
   "outputs": [],
   "source": [
    "def plot_learning_curve(estimator, title, X, y, axes=None, ylim=None, cv=None, n_jobs=None, train_sizes=np.linspace(.1, 1.0, 5)):\n",
    "    print(\"run\")\n",
    "    if axes is None:\n",
    "        _, axes = plt.subplots(1, 3, figsize=(20, 5))\n",
    "\n",
    "    axes[0].set_title(title)\n",
    "    if ylim is not None:\n",
    "        axes[0].set_ylim(*ylim)\n",
    "    axes[0].set_xlabel(\"Training examples\")\n",
    "    axes[0].set_ylabel(\"Score\")\n",
    "\n",
    "    train_sizes, train_scores, test_scores, fit_times, _ = \\\n",
    "        learning_curve(estimator, X, y, cv=cv, n_jobs=n_jobs,\n",
    "                       train_sizes=train_sizes,\n",
    "                       return_times=True)\n",
    "    train_scores_mean = np.mean(train_scores, axis=1)\n",
    "    train_scores_std = np.std(train_scores, axis=1)\n",
    "    test_scores_mean = np.mean(test_scores, axis=1)\n",
    "    test_scores_std = np.std(test_scores, axis=1)\n",
    "    fit_times_mean = np.mean(fit_times, axis=1)\n",
    "    fit_times_std = np.std(fit_times, axis=1)\n",
    "\n",
    "    # Plot learning curve\n",
    "    axes[0].grid()\n",
    "    axes[0].fill_between(train_sizes, train_scores_mean - train_scores_std,\n",
    "                         train_scores_mean + train_scores_std, alpha=0.1,\n",
    "                         color=\"r\")\n",
    "    axes[0].fill_between(train_sizes, test_scores_mean - test_scores_std,\n",
    "                         test_scores_mean + test_scores_std, alpha=0.1,\n",
    "                         color=\"g\")\n",
    "    axes[0].plot(train_sizes, train_scores_mean, 'o-', color=\"r\",\n",
    "                 label=\"Training score\")\n",
    "    axes[0].plot(train_sizes, test_scores_mean, 'o-', color=\"g\",\n",
    "                 label=\"Cross-validation score\")\n",
    "    axes[0].legend(loc=\"best\")\n",
    "\n",
    "    # Plot n_samples vs fit_times\n",
    "    axes[1].grid()\n",
    "    axes[1].plot(train_sizes, fit_times_mean, 'o-')\n",
    "    axes[1].fill_between(train_sizes, fit_times_mean - fit_times_std,\n",
    "                         fit_times_mean + fit_times_std, alpha=0.1)\n",
    "    axes[1].set_xlabel(\"Training examples\")\n",
    "    axes[1].set_ylabel(\"fit_times\")\n",
    "    axes[1].set_title(\"Scalability of the model\")\n",
    "\n",
    "    # Plot fit_time vs score\n",
    "    axes[2].grid()\n",
    "    axes[2].plot(fit_times_mean, test_scores_mean, 'o-')\n",
    "    axes[2].fill_between(fit_times_mean, test_scores_mean - test_scores_std,\n",
    "                         test_scores_mean + test_scores_std, alpha=0.1)\n",
    "    axes[2].set_xlabel(\"fit_times\")\n",
    "    axes[2].set_ylabel(\"Score\")\n",
    "    axes[2].set_title(\"Performance of the model\")\n",
    "\n",
    "    return plt    "
   ]
  },
  {
   "cell_type": "markdown",
   "metadata": {
    "id": "7EiHIM-OyPUy"
   },
   "source": [
    "# Decision Tree Graph"
   ]
  },
  {
   "cell_type": "code",
   "execution_count": 11,
   "metadata": {
    "id": "9sBOj02Ze9Ir"
   },
   "outputs": [],
   "source": [
    "fig, axes = plt.subplots(2,3, figsize=(15, 10))\n",
    "\n",
    "title = \"Learning Curves (Decision Tree Training Dataset 1 Hotel)\"\n",
    "# Cross validation with 100 iterations to get smoother mean test and train\n",
    "# score curves, each time with 20% data randomly selected as a validation set.\n",
    "cv = ShuffleSplit(n_splits=100, test_size=0.2, random_state=0)\n",
    "\n",
    "estimator = Pipeline(steps=[('preprocessor', preprocessor),('classifier', Decision_tree_best_model)])\n",
    "# clf_best_decision_tree.fit(X_train, y_train)\n",
    "\n",
    "# estimator = DecisionTreeClassifier(criterion = 'gini', max_depth = 12, splitter = 'best', ccp_alpha = 0.001)\n",
    "\n",
    "plot_learning_curve(estimator, title, X_train, y_train,cv=cv, n_jobs=-1, ylim=(.8, 1.0), axes=axes[0, :])\n",
    "title = \"Learning Curves (Decision Tree Test Dataset 1 Hotel)\"\n",
    "\n",
    "plot_learning_curve(estimator, title, X_test, y_test,cv=cv, n_jobs=-1, ylim=(.8, 1.0), axes=axes[1, :])\n",
    "\n",
    "plt.savefig('Decision_Tree_Learning_Curve.png')\n",
    "# plt.show()"
   ]
  },
  {
   "cell_type": "markdown",
   "metadata": {
    "id": "clAH82QGzwpu"
   },
   "source": [
    "# Neural Networks"
   ]
  },
  {
   "cell_type": "code",
   "execution_count": 9,
   "metadata": {
    "id": "mdrhM0WV0FiR"
   },
   "outputs": [],
   "source": [
    "%%time\n",
    "# model = MLPClassifier(alpha=1e-5, hidden_layer_sizes=(100,), random_state = 1)\n",
    "# model = MLPClassifier(hidden_layer_sizes=(100, ), alpha=0.0001, batch_size='auto', learning_rate='constant')\n",
    "model = MLPClassifier(hidden_layer_sizes=(100, ), alpha=0.0001, batch_size='auto', learning_rate='constant', power_t=0.5, shuffle=True, random_state=0, tol=0.0001, verbose=False, warm_start=False, momentum=0.9, nesterovs_momentum=True, early_stopping=True, validation_fraction=0.1, beta_1=0.9, beta_2=0.999, epsilon=1e-08, n_iter_no_change=10, max_fun=15000)\n",
    "clf = Pipeline(steps=[('preprocessor', preprocessor),('ann', model)])\n",
    "\n",
    "model_name = \"Neural Network\"\n",
    "check_params = {'ann__activation':['logistic', 'tanh', 'relu'], \n",
    "                'ann__solver': ['adam', 'sgd'],\n",
    "                'ann__learning_rate_init': [0.001, 0.005, 0.010, 0.05, 0.1],\n",
    "                'ann__max_iter': [50, 100, 150, 200]}\n",
    "# clf.fit(X_train, y_train)\n",
    "# print(model_name + \" Train score: \" + str(clf.score(X_train, y_train)))\n",
    "# print(model_name + \" Test score: \" + str(clf.score(X_test, y_test)))\n",
    "cv_best_score = 0\n",
    "cv_best_params = None \n",
    "print(model_name + \" GridSearch Starts\")\n",
    "for cv in tqdm(range(3, 10)):\n",
    "    create_grid = GridSearchCV(clf, param_grid=check_params, cv=cv, n_jobs=-1, return_train_score=False)\n",
    "    create_grid.fit(X_train, y_train)\n",
    "    cv_score = create_grid.score(X_test, y_test)\n",
    "    cv_params = create_grid.best_params_\n",
    "    print(\"Score for %d fold CV := %5.4f\" %(cv, cv_score))\n",
    "    print(\"!!!! Best fit parameters from GridSearchCV !!!!\")\n",
    "    print(cv_params)\n",
    "    if(cv_score > cv_best_score):\n",
    "        cv_best_score = cv_score\n",
    "        cv_best_params = cv_params"
   ]
  },
  {
   "cell_type": "code",
   "execution_count": 10,
   "metadata": {
    "id": "gORTPowZ1B0P"
   },
   "outputs": [
    {
     "name": "stderr",
     "output_type": "stream",
     "text": [
      "/Users/lzhang/opt/anaconda3/lib/python3.8/site-packages/sklearn/neural_network/_multilayer_perceptron.py:582: ConvergenceWarning: Stochastic Optimizer: Maximum iterations (50) reached and the optimization hasn't converged yet.\n",
      "  warnings.warn(\n"
     ]
    },
    {
     "name": "stdout",
     "output_type": "stream",
     "text": [
      "Neural Networks training data confusion matrix\n",
      "       0      1\n",
      "0  47480   2811\n",
      "1   4981  14280\n",
      "Neural Networks testing data confusion matrix\n",
      "       0     1\n",
      "0  11479  1183\n",
      "1   1686  3040\n",
      "Neural Networks training accuracy rate: 0.8879687140556706\n",
      "Neural Networks test accuracy rate: 0.8350011502185415\n",
      "Neural Networks training error rate: 0.11203128594432943\n",
      "Neural Networks test error rate: 0.1649988497814585\n",
      "Neural Networks training matthews_corrcoef Score: 0.712508232009473\n",
      "Neural Networks test matthews_corrcoef score: 0.5704247002560409\n",
      "Train Classification Report\n",
      "              precision    recall  f1-score   support\n",
      "\n",
      "           0       0.91      0.94      0.92     50291\n",
      "           1       0.84      0.74      0.79     19261\n",
      "\n",
      "    accuracy                           0.89     69552\n",
      "   macro avg       0.87      0.84      0.85     69552\n",
      "weighted avg       0.89      0.89      0.89     69552\n",
      "\n",
      "Test Classification Report\n",
      "              precision    recall  f1-score   support\n",
      "\n",
      "           0       0.87      0.91      0.89     12662\n",
      "           1       0.72      0.64      0.68      4726\n",
      "\n",
      "    accuracy                           0.84     17388\n",
      "   macro avg       0.80      0.77      0.78     17388\n",
      "weighted avg       0.83      0.84      0.83     17388\n",
      "\n",
      "CPU times: user 2min 13s, sys: 1.57 s, total: 2min 14s\n",
      "Wall time: 23.6 s\n"
     ]
    }
   ],
   "source": [
    "%%time\n",
    "neural_network_best_model = MLPClassifier(activation='logistic', learning_rate_init=0.005, solver='adam', max_iter=50)\n",
    "\n",
    "# neural_network_best_model = MLPClassifier((activation=cv_best_params['ann__activation'], learning_rate_init=cv_best_params['ann__learning_rate_init'], solver=cv_best_params['ann__solver'], max_iter=cv_best_params['ann__max_iter'])\n",
    "clf_best_neural_network = Pipeline(steps=[('preprocessor', preprocessor),('classifier', neural_network_best_model)])\n",
    "clf_best_neural_network.fit(X_train, y_train)\n",
    "y_pred_train = clf_best_neural_network.predict(X_train)\n",
    "y_pred_test = clf_best_neural_network.predict(X_test)\n",
    "conf_matrix_test = pd.DataFrame(confusion_matrix(y_test, y_pred_test))\n",
    "conf_matrix_train = pd.DataFrame(confusion_matrix(y_train, y_pred_train))\n",
    "print('Neural Networks training data confusion matrix')\n",
    "print(conf_matrix_train)\n",
    "print('Neural Networks testing data confusion matrix')\n",
    "print(conf_matrix_test)\n",
    "\n",
    "print('Neural Networks training accuracy rate: {}'.format(accuracy_score(y_train, y_pred_train)))\n",
    "print('Neural Networks test accuracy rate: {}'.format(accuracy_score(y_test, y_pred_test)))\n",
    "\n",
    "print('Neural Networks training error rate: {}'.format(1 - accuracy_score(y_train, y_pred_train)))\n",
    "print('Neural Networks test error rate: {}'.format(1 - accuracy_score(y_test, y_pred_test)))\n",
    "\n",
    "print('Neural Networks training matthews_corrcoef Score: {}'.format(matthews_corrcoef(y_train, y_pred_train)))\n",
    "print('Neural Networks test matthews_corrcoef score: {}'.format(matthews_corrcoef(y_test, y_pred_test)))\n",
    "\n",
    "target_names = ['0', '1']\n",
    "print(\"Train Classification Report\")\n",
    "print(classification_report(y_train, y_pred_train, target_names=target_names))\n",
    "print(\"Test Classification Report\")\n",
    "print(classification_report(y_test, y_pred_test, target_names=target_names))"
   ]
  },
  {
   "cell_type": "markdown",
   "metadata": {
    "id": "ayIiFuRy8ekG"
   },
   "source": [
    "# Neural Network Graph"
   ]
  },
  {
   "cell_type": "code",
   "execution_count": 13,
   "metadata": {
    "id": "y2TWKqcv1B28"
   },
   "outputs": [],
   "source": [
    "fig, axes = plt.subplots(2,3, figsize=(15, 10))\n",
    "\n",
    "title = \"Learning Curves (Neural Network Training Dataset 1 Hotel)\"\n",
    "# Cross validation with 100 iterations to get smoother mean test and train\n",
    "# score curves, each time with 20% data randomly selected as a validation set.\n",
    "cv = ShuffleSplit(n_splits=100, test_size=0.2, random_state=0)\n",
    "\n",
    "estimator = Pipeline(steps=[('preprocessor', preprocessor),('classifier', neural_network_best_model)])\n",
    "# estimator = MLPClassifier(activation='logistic', learning_rate_init=0.005, solver='adam', max_iter=50)\n",
    "\n",
    "plot_learning_curve(estimator, title, X_train, y_train,cv=cv, n_jobs=-1, axes=axes[0, :])\n",
    "title = \"Learning Curves (Neural Network Test Dataset 1 Hotel)\"\n",
    "\n",
    "plot_learning_curve(estimator, title, X_test, y_test,cv=cv, n_jobs=-1, axes=axes[1, :])\n",
    "\n",
    "plt.savefig('Neural_Network_Learning_Curve.png')\n",
    "# plt.show()"
   ]
  },
  {
   "cell_type": "markdown",
   "metadata": {
    "id": "9ZVXoPFYA0nq"
   },
   "source": [
    "# Boosting"
   ]
  },
  {
   "cell_type": "code",
   "execution_count": null,
   "metadata": {
    "id": "r1m4HTIv0F9c"
   },
   "outputs": [],
   "source": [
    "%%time\n",
    "model = AdaBoostClassifier(random_state=0)\n",
    "clf = Pipeline(steps=[('preprocessor', preprocessor),('boost', model)])\n",
    "\n",
    "model_name = \"Boosting\"\n",
    "\n",
    "check_params = {'boost__base_estimator':[DecisionTreeClassifier(max_depth=1), DecisionTreeClassifier(max_depth=2), DecisionTreeClassifier(max_depth=3)], \n",
    "                'boost__n_estimators': [10, 20, 30, 40, 50, 60],\n",
    "                'boost__learning_rate': [0.1, 0.5, 1.0],\n",
    "                'boost__algorithm': ['SAMME', 'SAMME.R']}\n",
    "\n",
    "# clf.fit(X_train, y_train)\n",
    "# print(model_name + \" Train score: \" + str(clf.score(X_train, y_train)))\n",
    "# print(model_name + \" Test score: \" + str(clf.score(X_test, y_test)))\n",
    "cv_best_score = 0\n",
    "cv_best_params = None \n",
    "print(model_name + \" GridSearch Starts\")\n",
    "for cv in tqdm(range(3, 10)):\n",
    "    create_grid = GridSearchCV(clf, param_grid=check_params, cv=cv, n_jobs=1, return_train_score=False)\n",
    "    create_grid.fit(X_train, y_train)\n",
    "    cv_score = create_grid.score(X_test, y_test)\n",
    "    cv_params = create_grid.best_params_\n",
    "    print(\"Score for %d fold CV := %5.4f\" %(cv, cv_score))\n",
    "    print(\"!!!! Best fit parameters from GridSearchCV !!!!\")\n",
    "    print(cv_params)\n",
    "    if(cv_score > cv_best_score):\n",
    "        cv_best_score = cv_score\n",
    "        cv_best_params = cv_params"
   ]
  },
  {
   "cell_type": "code",
   "execution_count": 14,
   "metadata": {},
   "outputs": [
    {
     "name": "stdout",
     "output_type": "stream",
     "text": [
      "Boosting training data confusion matrix\n",
      "       0      1\n",
      "0  46213   4078\n",
      "1   7678  11583\n",
      "Boosting testing data confusion matrix\n",
      "       0     1\n",
      "0  11676   986\n",
      "1   1868  2858\n",
      "Boosting training accuracy rate: 0.8309753853232114\n",
      "Boosting test accuracy rate: 0.8358638141246837\n",
      "Boosting training error rate: 0.16902461467678864\n",
      "Boosting test error rate: 0.1641361858753163\n",
      "Boosting training matthews_corrcoef Score: 0.5573858876770261\n",
      "Boosting test matthews_corrcoef score: 0.5648530141212741\n",
      "Train Classification Report\n",
      "              precision    recall  f1-score   support\n",
      "\n",
      "           0       0.86      0.92      0.89     50291\n",
      "           1       0.74      0.60      0.66     19261\n",
      "\n",
      "    accuracy                           0.83     69552\n",
      "   macro avg       0.80      0.76      0.78     69552\n",
      "weighted avg       0.82      0.83      0.83     69552\n",
      "\n",
      "Test Classification Report\n",
      "              precision    recall  f1-score   support\n",
      "\n",
      "           0       0.86      0.92      0.89     12662\n",
      "           1       0.74      0.60      0.67      4726\n",
      "\n",
      "    accuracy                           0.84     17388\n",
      "   macro avg       0.80      0.76      0.78     17388\n",
      "weighted avg       0.83      0.84      0.83     17388\n",
      "\n",
      "CPU times: user 7.06 s, sys: 788 ms, total: 7.84 s\n",
      "Wall time: 8.2 s\n"
     ]
    }
   ],
   "source": [
    "%%time\n",
    "boosting_best_model = AdaBoostClassifier(random_state=0, algorithm='SAMME.R', base_estimator=DecisionTreeClassifier(max_depth=2), learning_rate=0.5, n_estimators=50)\n",
    "# boosting_best_model = AdaBoostClassifier((activation=cv_best_params['ann__activation'], learning_rate_init=cv_best_params['ann__learning_rate_init'], solver=cv_best_params['ann__solver'], max_iter=cv_best_params['ann__max_iter'])\n",
    "clf_best_boosting = Pipeline(steps=[('preprocessor', preprocessor),('classifier', boosting_best_model)])\n",
    "clf_best_boosting.fit(X_train, y_train)\n",
    "y_pred_train = clf_best_boosting.predict(X_train)\n",
    "y_pred_test = clf_best_boosting.predict(X_test)\n",
    "conf_matrix_test = pd.DataFrame(confusion_matrix(y_test, y_pred_test))\n",
    "conf_matrix_train = pd.DataFrame(confusion_matrix(y_train, y_pred_train))\n",
    "print('Boosting training data confusion matrix')\n",
    "print(conf_matrix_train)\n",
    "print('Boosting testing data confusion matrix')\n",
    "print(conf_matrix_test)\n",
    "\n",
    "print('Boosting training accuracy rate: {}'.format(accuracy_score(y_train, y_pred_train)))\n",
    "print('Boosting test accuracy rate: {}'.format(accuracy_score(y_test, y_pred_test)))\n",
    "\n",
    "print('Boosting training error rate: {}'.format(1 - accuracy_score(y_train, y_pred_train)))\n",
    "print('Boosting test error rate: {}'.format(1 - accuracy_score(y_test, y_pred_test)))\n",
    "\n",
    "print('Boosting training matthews_corrcoef Score: {}'.format(matthews_corrcoef(y_train, y_pred_train)))\n",
    "print('Boosting test matthews_corrcoef score: {}'.format(matthews_corrcoef(y_test, y_pred_test)))\n",
    "\n",
    "target_names = ['0', '1']\n",
    "print(\"Train Classification Report\")\n",
    "print(classification_report(y_train, y_pred_train, target_names=target_names))\n",
    "print(\"Test Classification Report\")\n",
    "print(classification_report(y_test, y_pred_test, target_names=target_names))"
   ]
  },
  {
   "cell_type": "markdown",
   "metadata": {},
   "source": [
    "# Boosting Graph"
   ]
  },
  {
   "cell_type": "code",
   "execution_count": 15,
   "metadata": {},
   "outputs": [],
   "source": [
    "fig, axes = plt.subplots(2,3, figsize=(15, 10))\n",
    "\n",
    "title = \"Learning Curves (Boosting Training Dataset 1 Hotel)\"\n",
    "# Cross validation with 100 iterations to get smoother mean test and train\n",
    "# score curves, each time with 20% data randomly selected as a validation set.\n",
    "cv = ShuffleSplit(n_splits=100, test_size=0.2, random_state=0)\n",
    "\n",
    "estimator = Pipeline(steps=[('preprocessor', preprocessor),('classifier', boosting_best_model)])\n",
    "# estimator = MLPClassifier(activation='logistic', learning_rate_init=0.005, solver='adam', max_iter=50)\n",
    "\n",
    "plot_learning_curve(estimator, title, X_train, y_train,cv=cv, n_jobs=-1, axes=axes[0, :])\n",
    "title = \"Learning Curves (Boosting Test Dataset 1 Hotel)\"\n",
    "\n",
    "plot_learning_curve(estimator, title, X_test, y_test,cv=cv, n_jobs=-1, axes=axes[1, :])\n",
    "\n",
    "plt.savefig('Boosting_Learning_Curve.png')\n",
    "# plt.show()"
   ]
  },
  {
   "cell_type": "markdown",
   "metadata": {},
   "source": [
    "# Support Vector Machine"
   ]
  },
  {
   "cell_type": "code",
   "execution_count": null,
   "metadata": {},
   "outputs": [],
   "source": [
    "%%time\n",
    "\n",
    "model = SVC(C=1.0, degree=3, coef0=0.0, shrinking=True, probability=False, cache_size=200, verbose=False, max_iter=-1, decision_function_shape='ovr', break_ties=False, random_state=0)\n",
    "clf = Pipeline(steps=[('preprocessor', preprocessor),('svm', model)])\n",
    "\n",
    "model_name = \"Support Vector Machine\"\n",
    "\n",
    "check_params = {'svm__kernel':['poly', 'rbf', 'sigmoid'], \n",
    "                'svm__gamma': ['scale', 'auto'],\n",
    "                'svm__tol': [0.001, 0.01, 0.1],\n",
    "                'svm__class_weight': [None, 'balanced']}\n",
    "\n",
    "# clf.fit(X_train, y_train)\n",
    "# print(model_name + \" Train score: \" + str(clf.score(X_train, y_train)))\n",
    "# print(model_name + \" Test score: \" + str(clf.score(X_test, y_test)))\n",
    "cv_best_score = 0\n",
    "cv_best_params = None \n",
    "print(model_name + \" GridSearch Starts\")\n",
    "for cv in tqdm(range(3, 10)):\n",
    "    create_grid = GridSearchCV(clf, param_grid=check_params, cv=cv, n_jobs=1, return_train_score=False)\n",
    "    create_grid.fit(X_train, y_train)\n",
    "    cv_score = create_grid.score(X_test, y_test)\n",
    "    cv_params = create_grid.best_params_\n",
    "    print(\"Score for %d fold CV := %5.4f\" %(cv, cv_score))\n",
    "    print(\"!!!! Best fit parameters from GridSearchCV !!!!\")\n",
    "    print(cv_params)\n",
    "    if(cv_score > cv_best_score):\n",
    "        cv_best_score = cv_score\n",
    "        cv_best_params = cv_params"
   ]
  },
  {
   "cell_type": "code",
   "execution_count": null,
   "metadata": {},
   "outputs": [],
   "source": [
    "%%time\n",
    "svm_best_model = SVC(kernel='rbf', gamma='auto')\n",
    "# svm_best_model = SVC(random_state=0, kernel='rbf', tol=0.1, gamma='scale', class_weight=None)\n",
    "# svm_best_model = SVC(random_state=0, kernel='rbf', tol=0.1, gamma='scale', class_weight=None)\n",
    "clf_best_svm = Pipeline(steps=[('preprocessor', preprocessor),('svm', svm_best_model)])\n",
    "\n",
    "clf_best_svm.fit(X_train, y_train)\n",
    "y_pred_train = clf_best_svm.predict(X_train)\n",
    "y_pred_test = clf_best_svm.predict(X_test)\n",
    "conf_matrix_test = pd.DataFrame(confusion_matrix(y_test, y_pred_test))\n",
    "conf_matrix_train = pd.DataFrame(confusion_matrix(y_train, y_pred_train))\n",
    "print('svm training data confusion matrix')\n",
    "print(conf_matrix_train)\n",
    "print('svm testing data confusion matrix')\n",
    "print(conf_matrix_test)\n",
    "\n",
    "print('svm training accuracy rate: {}'.format(accuracy_score(y_train, y_pred_train)))\n",
    "print('svm test accuracy rate: {}'.format(accuracy_score(y_test, y_pred_test)))\n",
    "\n",
    "print('svm training error rate: {}'.format(1 - accuracy_score(y_train, y_pred_train)))\n",
    "print('svm test error rate: {}'.format(1 - accuracy_score(y_test, y_pred_test)))\n",
    "\n",
    "print('svm training matthews_corrcoef Score: {}'.format(matthews_corrcoef(y_train, y_pred_train)))\n",
    "print('svm test matthews_corrcoef score: {}'.format(matthews_corrcoef(y_test, y_pred_test)))\n",
    "\n",
    "target_names = ['0', '1']\n",
    "print(\"Train Classification Report\")\n",
    "print(classification_report(y_train, y_pred_train, target_names=target_names))\n",
    "print(\"Test Classification Report\")\n",
    "print(classification_report(y_test, y_pred_test, target_names=target_names))"
   ]
  },
  {
   "cell_type": "markdown",
   "metadata": {},
   "source": [
    "# SVM Graph"
   ]
  },
  {
   "cell_type": "code",
   "execution_count": 14,
   "metadata": {},
   "outputs": [
    {
     "name": "stdout",
     "output_type": "stream",
     "text": [
      "run\n",
      "run\n"
     ]
    }
   ],
   "source": [
    "svm_best_model = SVC(kernel='rbf', gamma='auto')\n",
    "\n",
    "fig, axes = plt.subplots(2,3, figsize=(15, 10))\n",
    "\n",
    "title = \"Learning Curves (SVM Training Dataset 1 Hotel)\"\n",
    "# Cross validation with 100 iterations to get smoother mean test and train\n",
    "# score curves, each time with 20% data randomly selected as a validation set.\n",
    "cv = ShuffleSplit(n_splits=100, test_size=0.2, random_state=0)\n",
    "\n",
    "estimator = Pipeline(steps=[('preprocessor', preprocessor),('svm', svm_best_model)])\n",
    "# estimator = MLPClassifier(activation='logistic', learning_rate_init=0.005, solver='adam', max_iter=50)\n",
    "\n",
    "plot_learning_curve(estimator, title, X_train, y_train,cv=cv, n_jobs=-1, axes=axes[0, :])\n",
    "title = \"Learning Curves (SVM Test Dataset 1 Hotel)\"\n",
    "\n",
    "plot_learning_curve(estimator, title, X_test, y_test,cv=cv, n_jobs=-1, axes=axes[1, :])\n",
    "\n",
    "plt.savefig('SVM_Learning_Curve.png')\n",
    "# plt.show()"
   ]
  },
  {
   "cell_type": "markdown",
   "metadata": {},
   "source": [
    "# KNN"
   ]
  },
  {
   "cell_type": "code",
   "execution_count": null,
   "metadata": {},
   "outputs": [],
   "source": [
    "%%time\n",
    "\n",
    "model = KNeighborsClassifier(algorithm='auto', leaf_size=30, p=2, metric='minkowski', metric_params=None)\n",
    "clf = Pipeline(steps=[('preprocessor', preprocessor),('knn', model)])\n",
    "\n",
    "model_name = \"K Nearest Neighbor\"\n",
    "\n",
    "check_params = {'knn__n_neighbors':np.arange(5,10,2), \n",
    "                'knn__weights': ['uniform', 'distance']}\n",
    "\n",
    "# clf.fit(X_train, y_train)\n",
    "# print(model_name + \" Train score: \" + str(clf.score(X_train, y_train)))\n",
    "# print(model_name + \" Test score: \" + str(clf.score(X_test, y_test)))\n",
    "cv_best_score = 0\n",
    "cv_best_params = None \n",
    "print(model_name + \" GridSearch Starts\")\n",
    "for cv in tqdm(range(3, 10)):\n",
    "    create_grid = GridSearchCV(clf, param_grid=check_params, cv=cv, n_jobs=1, return_train_score=False)\n",
    "    create_grid.fit(X_train, y_train)\n",
    "    cv_score = create_grid.score(X_test, y_test)\n",
    "    cv_params = create_grid.best_params_\n",
    "    print(\"Score for %d fold CV := %5.4f\" %(cv, cv_score))\n",
    "    print(\"!!!! Best fit parameters from GridSearchCV !!!!\")\n",
    "    print(cv_params)\n",
    "    if(cv_score > cv_best_score):\n",
    "        cv_best_score = cv_score\n",
    "        cv_best_params = cv_params"
   ]
  },
  {
   "cell_type": "code",
   "execution_count": 11,
   "metadata": {},
   "outputs": [
    {
     "name": "stdout",
     "output_type": "stream",
     "text": [
      "knn training data confusion matrix\n",
      "       0      1\n",
      "0  50276     15\n",
      "1    150  19111\n",
      "knn testing data confusion matrix\n",
      "       0     1\n",
      "0  10818  1844\n",
      "1   1853  2873\n",
      "knn training accuracy rate: 0.997627674258109\n",
      "knn test accuracy rate: 0.7873821025994939\n",
      "knn training error rate: 0.002372325741890946\n",
      "knn test error rate: 0.21261789740050607\n",
      "knn training matthews_corrcoef Score: 0.9940751703878702\n",
      "knn test matthews_corrcoef score: 0.4625575107863101\n",
      "Train Classification Report\n",
      "              precision    recall  f1-score   support\n",
      "\n",
      "           0       1.00      1.00      1.00     50291\n",
      "           1       1.00      0.99      1.00     19261\n",
      "\n",
      "    accuracy                           1.00     69552\n",
      "   macro avg       1.00      1.00      1.00     69552\n",
      "weighted avg       1.00      1.00      1.00     69552\n",
      "\n",
      "Test Classification Report\n",
      "              precision    recall  f1-score   support\n",
      "\n",
      "           0       0.85      0.85      0.85     12662\n",
      "           1       0.61      0.61      0.61      4726\n",
      "\n",
      "    accuracy                           0.79     17388\n",
      "   macro avg       0.73      0.73      0.73     17388\n",
      "weighted avg       0.79      0.79      0.79     17388\n",
      "\n",
      "CPU times: user 6min 18s, sys: 43.7 s, total: 7min 2s\n",
      "Wall time: 7min 4s\n"
     ]
    }
   ],
   "source": [
    "%%time\n",
    "knn_best_model = KNeighborsClassifier(n_neighbors=3, weights='distance')\n",
    "# knn_best_model = SVC(random_state=0, kernel='rbf', tol=0.1, gamma='scale', class_weight=None)\n",
    "# knn_best_model = SVC(random_state=0, kernel='rbf', tol=0.1, gamma='scale', class_weight=None)\n",
    "clf_best_knn = Pipeline(steps=[('preprocessor', preprocessor),('classifier', knn_best_model)])\n",
    "\n",
    "clf_best_knn.fit(X_train, y_train)\n",
    "y_pred_train = clf_best_knn.predict(X_train)\n",
    "y_pred_test = clf_best_knn.predict(X_test)\n",
    "conf_matrix_test = pd.DataFrame(confusion_matrix(y_test, y_pred_test))\n",
    "conf_matrix_train = pd.DataFrame(confusion_matrix(y_train, y_pred_train))\n",
    "print('knn training data confusion matrix')\n",
    "print(conf_matrix_train)\n",
    "print('knn testing data confusion matrix')\n",
    "print(conf_matrix_test)\n",
    "\n",
    "print('knn training accuracy rate: {}'.format(accuracy_score(y_train, y_pred_train)))\n",
    "print('knn test accuracy rate: {}'.format(accuracy_score(y_test, y_pred_test)))\n",
    "\n",
    "print('knn training error rate: {}'.format(1 - accuracy_score(y_train, y_pred_train)))\n",
    "print('knn test error rate: {}'.format(1 - accuracy_score(y_test, y_pred_test)))\n",
    "\n",
    "print('knn training matthews_corrcoef Score: {}'.format(matthews_corrcoef(y_train, y_pred_train)))\n",
    "print('knn test matthews_corrcoef score: {}'.format(matthews_corrcoef(y_test, y_pred_test)))\n",
    "\n",
    "target_names = ['0', '1']\n",
    "print(\"Train Classification Report\")\n",
    "print(classification_report(y_train, y_pred_train, target_names=target_names))\n",
    "print(\"Test Classification Report\")\n",
    "print(classification_report(y_test, y_pred_test, target_names=target_names))"
   ]
  },
  {
   "cell_type": "markdown",
   "metadata": {},
   "source": [
    "# KNN Graph"
   ]
  },
  {
   "cell_type": "code",
   "execution_count": 11,
   "metadata": {},
   "outputs": [
    {
     "name": "stdout",
     "output_type": "stream",
     "text": [
      "run\n",
      "run\n"
     ]
    }
   ],
   "source": [
    "fig, axes = plt.subplots(2,3, figsize=(15, 10))\n",
    "\n",
    "knn_best_model = KNeighborsClassifier(n_neighbors=3, weights='distance')\n",
    "title = \"Learning Curves (KNN Training Dataset 1 Hotel)\"\n",
    "# Cross validation with 100 iterations to get smoother mean test and train\n",
    "# score curves, each time with 20% data randomly selected as a validation set.\n",
    "cv = ShuffleSplit(n_splits=100, test_size=0.2, random_state=0)\n",
    "\n",
    "estimator = Pipeline(steps=[('preprocessor', preprocessor),('classifier', knn_best_model)])\n",
    "# estimator = MLPClassifier(activation='logistic', learning_rate_init=0.005, solver='adam', max_iter=50)\n",
    "\n",
    "plot_learning_curve(estimator, title, X_train, y_train,cv=cv, n_jobs=6, axes=axes[0, :])\n",
    "title = \"Learning Curves (KNN Test Dataset 1 Hotel)\"\n",
    "\n",
    "plot_learning_curve(estimator, title, X_test, y_test,cv=cv, n_jobs=6, axes=axes[1, :])\n",
    "\n",
    "plt.savefig('KNN_Learning_Curve.png')\n",
    "# plt.show()"
   ]
  },
  {
   "cell_type": "code",
   "execution_count": null,
   "metadata": {},
   "outputs": [],
   "source": []
  },
  {
   "cell_type": "code",
   "execution_count": null,
   "metadata": {
    "colab": {
     "base_uri": "https://localhost:8080/",
     "height": 1000
    },
    "id": "WfmKut5_ddC9",
    "outputId": "5afbbd89-4882-49b7-e867-d70b0d29a0bf"
   },
   "outputs": [
    {
     "name": "stdout",
     "output_type": "stream",
     "text": [
      "DecisionTreeClassifier Train score: 0.9216126063952151\n",
      "DecisionTreeClassifier Train Classification Report\n",
      "precision {1: 0.943558257985549, 0: 0.8627897131971637}\n",
      "recall {1: 0.948539334762245, 0: 0.8508140262993112}\n",
      "f1 {1: 0.946042239860652, 0: 0.8567600231201724}\n"
     ]
    },
    {
     "data": {
      "image/png": "[encoded data removed]",
      "text/plain": [
       "<Figure size 600x360 with 2 Axes>"
      ]
     },
     "metadata": {
      "needs_background": "light",
      "tags": []
     },
     "output_type": "display_data"
    },
    {
     "name": "stdout",
     "output_type": "stream",
     "text": [
      "DecisionTreeClassifier Test score: 0.8231538992408558\n",
      "DecisionTreeClassifier Test Classification Report\n",
      "precision {1: 0.874211356466877, 0: 0.6856414613423959}\n",
      "recall {1: 0.8822124950258655, 0: 0.6692929711797636}\n",
      "f1 {1: 0.8781937017231136, 0: 0.6773685867170286}\n"
     ]
    },
    {
     "data": {
      "image/png": "[encoded data removed]",
      "text/plain": [
       "<Figure size 600x360 with 2 Axes>"
      ]
     },
     "metadata": {
      "needs_background": "light",
      "tags": []
     },
     "output_type": "display_data"
    },
    {
     "name": "stderr",
     "output_type": "stream",
     "text": [
      "/usr/local/lib/python3.6/dist-packages/sklearn/base.py:197: FutureWarning:\n",
      "\n",
      "From version 0.24, get_params will raise an AttributeError if a parameter cannot be retrieved as an instance attribute. Previously it would return None.\n",
      "\n"
     ]
    },
    {
     "data": {
      "image/png": "[encoded data removed]",
      "text/plain": [
       "<Figure size 432x288 with 1 Axes>"
      ]
     },
     "metadata": {
      "needs_background": "light",
      "tags": []
     },
     "output_type": "display_data"
    }
   ],
   "source": [
    "# Create numerical_transformer and categorical_transformer\n",
    "numerical_transformer = Pipeline(steps=[('imputer', SimpleImputer(strategy='median')),('scaler', StandardScaler())])\n",
    "categorical_transformer = Pipeline(steps=[('imputer', SimpleImputer(strategy='constant', fill_value='missing')),('onehot', OneHotEncoder(handle_unknown='ignore'))])\n",
    "\n",
    "# Use ColumnTransformer by selecting column by names\n",
    "preprocessor = ColumnTransformer(transformers=[('num', numerical_transformer, numerical_features),('cat', categorical_transformer, categorical_features)])\n",
    "\n",
    "# train, test split\n",
    "# 80% train\n",
    "# 20% test\n",
    "X_train, X_test, y_train, y_test = train_test_split(X, y, test_size = 0.2,random_state=0)\n",
    "\n",
    "# Append classifier to preprocessing pipeline.\n",
    "# Now we have a full prediction pipeline.\n",
    "model = [SVC(gamma='auto')]\n",
    "# models = [DecisionTreeClassifier(),\n",
    "#           DecisionTreeClassifier(max_depth = 10)\n",
    "#           MLPClassifier(solver='lbfgs', alpha=1e-5, hidden_layer_sizes=(15,), random_state = 1),\n",
    "#           AdaBoostClassifier(),\n",
    "#           SVC(kernel='rbf'),\n",
    "#           SVC(kernel='linear'),\n",
    "#           KNeighborsClassifier(n_neighbors = 3),\n",
    "#           KNeighborsClassifier(n_neighbors = 4)]\n",
    "\n",
    "# models = [SVC(gamma='auto'),\n",
    "#           DecisionTreeClassifier(random_state=42)]\n",
    "\n",
    "# models = [  SVC(gamma='auto'), \n",
    "#             NuSVC(gamma='auto'), \n",
    "#             LinearSVC(),\n",
    "#             SGDClassifier(max_iter=100, tol=1e-3), \n",
    "#             KNeighborsClassifier(),\n",
    "#             LogisticRegression(solver='lbfgs'), \n",
    "#             LogisticRegressionCV(cv=3),\n",
    "#             BaggingClassifier(), \n",
    "#             ExtraTreesClassifier(n_estimators=300),\n",
    "#             RandomForestClassifier(n_estimators=300)]\n",
    "\n",
    "\n",
    "def score_model(X_train, y_train, X_test, y_test, model):\n",
    "    clf = Pipeline(steps=[('preprocessor', preprocessor),('classifier', model)])\n",
    "    model_name = type(model).__name__\n",
    "\n",
    "    train_graph_title = model_name + \" Train Classification Report\"\n",
    "    visualizer = ClassificationReport(clf, classes=[1, 0], cmap=\"YlGn\", size=(600, 360), title = train_graph_title)\n",
    "    visualizer.fit(X_train, y_train)\n",
    "    visualizer.score(X_train, y_train)\n",
    "    train_score = visualizer.score_\n",
    "    print(model_name + \" Train score: \" + str(train_score))\n",
    "    print(model_name + \" Train Classification Report\")\n",
    "    classification_train_scores = visualizer.scores_\n",
    "    for score_type in classification_train_scores:\n",
    "        print(score_type, end = ' ')\n",
    "        print(classification_train_scores[score_type])\n",
    "    # a = visualizer.poof()\n",
    "\n",
    "    test_graph_title = model_name + \" Test Classification Report\"\n",
    "    visualizer = ClassificationReport(clf, classes=[1, 0], cmap=\"YlGn\", size=(600, 360), title = test_graph_title)\n",
    "    visualizer.fit(X_train, y_train)\n",
    "    visualizer.score(X_test, y_test)\n",
    "    test_score = visualizer.score_\n",
    "    print(model_name + \" Test score: \" + str(test_score))\n",
    "    print(model_name + \" Test Classification Report\")\n",
    "    classification_test_scores = visualizer.scores_\n",
    "    for score_type in classification_test_scores:\n",
    "        print(score_type, end = ' ')\n",
    "        print(classification_test_scores[score_type])\n",
    "    # g = visualizer.poof()\n",
    "\n",
    "    learning_curve_title = model_name + \" Learning Curve\"\n",
    "    visualizer = LearningCurve(clf, scoring = 'f1_weighted', n_jobs = 4)\n",
    "    visualizer.fit(X_train, y_train)\n",
    "    g = visualizer.poof()\n",
    "\n",
    "for model in models:\n",
    "    score_model(X_train, y_train, X_test, y_test, model)"
   ]
  },
  {
   "cell_type": "code",
   "execution_count": null,
   "metadata": {
    "id": "KEBCCTyqirCH"
   },
   "outputs": [],
   "source": []
  }
 ],
 "metadata": {
  "accelerator": "GPU",
  "colab": {
   "collapsed_sections": [],
   "name": "Hotel.ipynb",
   "provenance": [],
   "toc_visible": true
  },
  "kernelspec": {
   "display_name": "Python 3",
   "language": "python",
   "name": "python3"
  },
  "language_info": {
   "codemirror_mode": {
    "name": "ipython",
    "version": 3
   },
   "file_extension": ".py",
   "mimetype": "text/x-python",
   "name": "python",
   "nbconvert_exporter": "python",
   "pygments_lexer": "ipython3",
   "version": "3.8.3"
  },
  "widgets": {
   "application/vnd.jupyter.widget-state+json": {
    "07da97ee47b24178a94a61b0908dadff": {
     "model_module": "@jupyter-widgets/controls",
     "model_name": "HBoxModel",
     "state": {
      "_dom_classes": [],
      "_model_module": "@jupyter-widgets/controls",
      "_model_module_version": "1.5.0",
      "_model_name": "HBoxModel",
      "_view_count": null,
      "_view_module": "@jupyter-widgets/controls",
      "_view_module_version": "1.5.0",
      "_view_name": "HBoxView",
      "box_style": "",
      "children": [
       "IPY_MODEL_1ef370cb5dac45f2bddbeb4a08366d8f",
       "IPY_MODEL_457cc46fa1de45699b9f56cd81993380"
      ],
      "layout": "IPY_MODEL_4e0ebee8cebe4bfebbc973906052996f"
     }
    },
    "1cbcdfd5d48043c1a3c7d61b5324bcad": {
     "model_module": "@jupyter-widgets/controls",
     "model_name": "ProgressStyleModel",
     "state": {
      "_model_module": "@jupyter-widgets/controls",
      "_model_module_version": "1.5.0",
      "_model_name": "ProgressStyleModel",
      "_view_count": null,
      "_view_module": "@jupyter-widgets/base",
      "_view_module_version": "1.2.0",
      "_view_name": "StyleView",
      "bar_color": null,
      "description_width": "initial"
     }
    },
    "1ef370cb5dac45f2bddbeb4a08366d8f": {
     "model_module": "@jupyter-widgets/controls",
     "model_name": "FloatProgressModel",
     "state": {
      "_dom_classes": [],
      "_model_module": "@jupyter-widgets/controls",
      "_model_module_version": "1.5.0",
      "_model_name": "FloatProgressModel",
      "_view_count": null,
      "_view_module": "@jupyter-widgets/controls",
      "_view_module_version": "1.5.0",
      "_view_name": "ProgressView",
      "bar_style": "success",
      "description": "100%",
      "description_tooltip": null,
      "layout": "IPY_MODEL_412aa5a6658e4024963f89896ac7c6b5",
      "max": 7,
      "min": 0,
      "orientation": "horizontal",
      "style": "IPY_MODEL_1cbcdfd5d48043c1a3c7d61b5324bcad",
      "value": 7
     }
    },
    "2d92fa60623042b5af32c07f982da1eb": {
     "model_module": "@jupyter-widgets/base",
     "model_name": "LayoutModel",
     "state": {
      "_model_module": "@jupyter-widgets/base",
      "_model_module_version": "1.2.0",
      "_model_name": "LayoutModel",
      "_view_count": null,
      "_view_module": "@jupyter-widgets/base",
      "_view_module_version": "1.2.0",
      "_view_name": "LayoutView",
      "align_content": null,
      "align_items": null,
      "align_self": null,
      "border": null,
      "bottom": null,
      "display": null,
      "flex": null,
      "flex_flow": null,
      "grid_area": null,
      "grid_auto_columns": null,
      "grid_auto_flow": null,
      "grid_auto_rows": null,
      "grid_column": null,
      "grid_gap": null,
      "grid_row": null,
      "grid_template_areas": null,
      "grid_template_columns": null,
      "grid_template_rows": null,
      "height": null,
      "justify_content": null,
      "justify_items": null,
      "left": null,
      "margin": null,
      "max_height": null,
      "max_width": null,
      "min_height": null,
      "min_width": null,
      "object_fit": null,
      "object_position": null,
      "order": null,
      "overflow": null,
      "overflow_x": null,
      "overflow_y": null,
      "padding": null,
      "right": null,
      "top": null,
      "visibility": null,
      "width": null
     }
    },
    "412aa5a6658e4024963f89896ac7c6b5": {
     "model_module": "@jupyter-widgets/base",
     "model_name": "LayoutModel",
     "state": {
      "_model_module": "@jupyter-widgets/base",
      "_model_module_version": "1.2.0",
      "_model_name": "LayoutModel",
      "_view_count": null,
      "_view_module": "@jupyter-widgets/base",
      "_view_module_version": "1.2.0",
      "_view_name": "LayoutView",
      "align_content": null,
      "align_items": null,
      "align_self": null,
      "border": null,
      "bottom": null,
      "display": null,
      "flex": null,
      "flex_flow": null,
      "grid_area": null,
      "grid_auto_columns": null,
      "grid_auto_flow": null,
      "grid_auto_rows": null,
      "grid_column": null,
      "grid_gap": null,
      "grid_row": null,
      "grid_template_areas": null,
      "grid_template_columns": null,
      "grid_template_rows": null,
      "height": null,
      "justify_content": null,
      "justify_items": null,
      "left": null,
      "margin": null,
      "max_height": null,
      "max_width": null,
      "min_height": null,
      "min_width": null,
      "object_fit": null,
      "object_position": null,
      "order": null,
      "overflow": null,
      "overflow_x": null,
      "overflow_y": null,
      "padding": null,
      "right": null,
      "top": null,
      "visibility": null,
      "width": null
     }
    },
    "457cc46fa1de45699b9f56cd81993380": {
     "model_module": "@jupyter-widgets/controls",
     "model_name": "HTMLModel",
     "state": {
      "_dom_classes": [],
      "_model_module": "@jupyter-widgets/controls",
      "_model_module_version": "1.5.0",
      "_model_name": "HTMLModel",
      "_view_count": null,
      "_view_module": "@jupyter-widgets/controls",
      "_view_module_version": "1.5.0",
      "_view_name": "HTMLView",
      "description": "",
      "description_tooltip": null,
      "layout": "IPY_MODEL_2d92fa60623042b5af32c07f982da1eb",
      "placeholder": "​",
      "style": "IPY_MODEL_cb73389f26304abf8d6ea91329f21bc7",
      "value": " 7/7 [11:04&lt;00:00, 94.89s/it]"
     }
    },
    "4e0ebee8cebe4bfebbc973906052996f": {
     "model_module": "@jupyter-widgets/base",
     "model_name": "LayoutModel",
     "state": {
      "_model_module": "@jupyter-widgets/base",
      "_model_module_version": "1.2.0",
      "_model_name": "LayoutModel",
      "_view_count": null,
      "_view_module": "@jupyter-widgets/base",
      "_view_module_version": "1.2.0",
      "_view_name": "LayoutView",
      "align_content": null,
      "align_items": null,
      "align_self": null,
      "border": null,
      "bottom": null,
      "display": null,
      "flex": null,
      "flex_flow": null,
      "grid_area": null,
      "grid_auto_columns": null,
      "grid_auto_flow": null,
      "grid_auto_rows": null,
      "grid_column": null,
      "grid_gap": null,
      "grid_row": null,
      "grid_template_areas": null,
      "grid_template_columns": null,
      "grid_template_rows": null,
      "height": null,
      "justify_content": null,
      "justify_items": null,
      "left": null,
      "margin": null,
      "max_height": null,
      "max_width": null,
      "min_height": null,
      "min_width": null,
      "object_fit": null,
      "object_position": null,
      "order": null,
      "overflow": null,
      "overflow_x": null,
      "overflow_y": null,
      "padding": null,
      "right": null,
      "top": null,
      "visibility": null,
      "width": null
     }
    },
    "cb73389f26304abf8d6ea91329f21bc7": {
     "model_module": "@jupyter-widgets/controls",
     "model_name": "DescriptionStyleModel",
     "state": {
      "_model_module": "@jupyter-widgets/controls",
      "_model_module_version": "1.5.0",
      "_model_name": "DescriptionStyleModel",
      "_view_count": null,
      "_view_module": "@jupyter-widgets/base",
      "_view_module_version": "1.2.0",
      "_view_name": "StyleView",
      "description_width": ""
     }
    }
   }
  }
 },
 "nbformat": 4,
 "nbformat_minor": 4
}
